{
  "nbformat": 4,
  "nbformat_minor": 0,
  "metadata": {
    "colab": {
      "provenance": []
    },
    "kernelspec": {
      "display_name": "Python 3",
      "language": "python",
      "name": "python3"
    },
    "language_info": {
      "codemirror_mode": {
        "name": "ipython",
        "version": 3
      },
      "file_extension": ".py",
      "mimetype": "text/x-python",
      "name": "python",
      "nbconvert_exporter": "python",
      "pygments_lexer": "ipython3",
      "version": "3.7.6"
    },
    "widgets": {
      "application/vnd.jupyter.widget-state+json": {
        "6f89c0cf65e54d9eb3109fff6c3566b2": {
          "model_module": "@jupyter-widgets/controls",
          "model_name": "HBoxModel",
          "state": {
            "_dom_classes": [],
            "_model_module": "@jupyter-widgets/controls",
            "_model_module_version": "1.5.0",
            "_model_name": "HBoxModel",
            "_view_count": null,
            "_view_module": "@jupyter-widgets/controls",
            "_view_module_version": "1.5.0",
            "_view_name": "HBoxView",
            "box_style": "",
            "children": [
              "IPY_MODEL_fae476f38b0541cea313453aa4eccdb8",
              "IPY_MODEL_086f3841391b4371bf367d86b41f77d4"
            ],
            "layout": "IPY_MODEL_d7e159811667491090ee293330b70f7e"
          },
          "model_module_version": "1.5.0"
        },
        "d7e159811667491090ee293330b70f7e": {
          "model_module": "@jupyter-widgets/base",
          "model_name": "LayoutModel",
          "state": {
            "_model_module": "@jupyter-widgets/base",
            "_model_module_version": "1.2.0",
            "_model_name": "LayoutModel",
            "_view_count": null,
            "_view_module": "@jupyter-widgets/base",
            "_view_module_version": "1.2.0",
            "_view_name": "LayoutView",
            "align_content": null,
            "align_items": null,
            "align_self": null,
            "border": null,
            "bottom": null,
            "display": null,
            "flex": null,
            "flex_flow": null,
            "grid_area": null,
            "grid_auto_columns": null,
            "grid_auto_flow": null,
            "grid_auto_rows": null,
            "grid_column": null,
            "grid_gap": null,
            "grid_row": null,
            "grid_template_areas": null,
            "grid_template_columns": null,
            "grid_template_rows": null,
            "height": null,
            "justify_content": null,
            "justify_items": null,
            "left": null,
            "margin": null,
            "max_height": null,
            "max_width": null,
            "min_height": null,
            "min_width": null,
            "object_fit": null,
            "object_position": null,
            "order": null,
            "overflow": null,
            "overflow_x": null,
            "overflow_y": null,
            "padding": null,
            "right": null,
            "top": null,
            "visibility": null,
            "width": null
          },
          "model_module_version": "1.2.0"
        },
        "fae476f38b0541cea313453aa4eccdb8": {
          "model_module": "@jupyter-widgets/controls",
          "model_name": "FloatProgressModel",
          "state": {
            "_dom_classes": [],
            "_model_module": "@jupyter-widgets/controls",
            "_model_module_version": "1.5.0",
            "_model_name": "FloatProgressModel",
            "_view_count": null,
            "_view_module": "@jupyter-widgets/controls",
            "_view_module_version": "1.5.0",
            "_view_name": "ProgressView",
            "bar_style": "success",
            "description": "Dl Completed...: 100%",
            "description_tooltip": null,
            "layout": "IPY_MODEL_c9c5f53fb7c84bc5a315ecfbe89fb501",
            "max": 1,
            "min": 0,
            "orientation": "horizontal",
            "style": "IPY_MODEL_925fd832f9f34ad3a9c3ac3208b49439",
            "value": 1
          },
          "model_module_version": "1.5.0"
        },
        "086f3841391b4371bf367d86b41f77d4": {
          "model_module": "@jupyter-widgets/controls",
          "model_name": "HTMLModel",
          "state": {
            "_dom_classes": [],
            "_model_module": "@jupyter-widgets/controls",
            "_model_module_version": "1.5.0",
            "_model_name": "HTMLModel",
            "_view_count": null,
            "_view_module": "@jupyter-widgets/controls",
            "_view_module_version": "1.5.0",
            "_view_name": "HTMLView",
            "description": "",
            "description_tooltip": null,
            "layout": "IPY_MODEL_92712eedcc93444b81364edcbcaf7027",
            "placeholder": "​",
            "style": "IPY_MODEL_34ce5bdd0722436db2fd10a4edc1e353",
            "value": " 2/2 [00:05&lt;00:00,  2.81s/ url]"
          },
          "model_module_version": "1.5.0"
        },
        "925fd832f9f34ad3a9c3ac3208b49439": {
          "model_module": "@jupyter-widgets/controls",
          "model_name": "ProgressStyleModel",
          "state": {
            "_model_module": "@jupyter-widgets/controls",
            "_model_module_version": "1.5.0",
            "_model_name": "ProgressStyleModel",
            "_view_count": null,
            "_view_module": "@jupyter-widgets/base",
            "_view_module_version": "1.2.0",
            "_view_name": "StyleView",
            "bar_color": null,
            "description_width": "initial"
          },
          "model_module_version": "1.5.0"
        },
        "c9c5f53fb7c84bc5a315ecfbe89fb501": {
          "model_module": "@jupyter-widgets/base",
          "model_name": "LayoutModel",
          "state": {
            "_model_module": "@jupyter-widgets/base",
            "_model_module_version": "1.2.0",
            "_model_name": "LayoutModel",
            "_view_count": null,
            "_view_module": "@jupyter-widgets/base",
            "_view_module_version": "1.2.0",
            "_view_name": "LayoutView",
            "align_content": null,
            "align_items": null,
            "align_self": null,
            "border": null,
            "bottom": null,
            "display": null,
            "flex": null,
            "flex_flow": null,
            "grid_area": null,
            "grid_auto_columns": null,
            "grid_auto_flow": null,
            "grid_auto_rows": null,
            "grid_column": null,
            "grid_gap": null,
            "grid_row": null,
            "grid_template_areas": null,
            "grid_template_columns": null,
            "grid_template_rows": null,
            "height": null,
            "justify_content": null,
            "justify_items": null,
            "left": null,
            "margin": null,
            "max_height": null,
            "max_width": null,
            "min_height": null,
            "min_width": null,
            "object_fit": null,
            "object_position": null,
            "order": null,
            "overflow": null,
            "overflow_x": null,
            "overflow_y": null,
            "padding": null,
            "right": null,
            "top": null,
            "visibility": null,
            "width": null
          },
          "model_module_version": "1.2.0"
        },
        "34ce5bdd0722436db2fd10a4edc1e353": {
          "model_module": "@jupyter-widgets/controls",
          "model_name": "DescriptionStyleModel",
          "state": {
            "_model_module": "@jupyter-widgets/controls",
            "_model_module_version": "1.5.0",
            "_model_name": "DescriptionStyleModel",
            "_view_count": null,
            "_view_module": "@jupyter-widgets/base",
            "_view_module_version": "1.2.0",
            "_view_name": "StyleView",
            "description_width": ""
          },
          "model_module_version": "1.5.0"
        },
        "92712eedcc93444b81364edcbcaf7027": {
          "model_module": "@jupyter-widgets/base",
          "model_name": "LayoutModel",
          "state": {
            "_model_module": "@jupyter-widgets/base",
            "_model_module_version": "1.2.0",
            "_model_name": "LayoutModel",
            "_view_count": null,
            "_view_module": "@jupyter-widgets/base",
            "_view_module_version": "1.2.0",
            "_view_name": "LayoutView",
            "align_content": null,
            "align_items": null,
            "align_self": null,
            "border": null,
            "bottom": null,
            "display": null,
            "flex": null,
            "flex_flow": null,
            "grid_area": null,
            "grid_auto_columns": null,
            "grid_auto_flow": null,
            "grid_auto_rows": null,
            "grid_column": null,
            "grid_gap": null,
            "grid_row": null,
            "grid_template_areas": null,
            "grid_template_columns": null,
            "grid_template_rows": null,
            "height": null,
            "justify_content": null,
            "justify_items": null,
            "left": null,
            "margin": null,
            "max_height": null,
            "max_width": null,
            "min_height": null,
            "min_width": null,
            "object_fit": null,
            "object_position": null,
            "order": null,
            "overflow": null,
            "overflow_x": null,
            "overflow_y": null,
            "padding": null,
            "right": null,
            "top": null,
            "visibility": null,
            "width": null
          },
          "model_module_version": "1.2.0"
        },
        "0dba2f3e95194357a15b090d4720ed0b": {
          "model_module": "@jupyter-widgets/controls",
          "model_name": "HBoxModel",
          "state": {
            "_dom_classes": [],
            "_model_module": "@jupyter-widgets/controls",
            "_model_module_version": "1.5.0",
            "_model_name": "HBoxModel",
            "_view_count": null,
            "_view_module": "@jupyter-widgets/controls",
            "_view_module_version": "1.5.0",
            "_view_name": "HBoxView",
            "box_style": "",
            "children": [
              "IPY_MODEL_ad6268710ecc45719e2d74b822586a0b",
              "IPY_MODEL_1d8aab59382a4af08d4f137a3e91151c"
            ],
            "layout": "IPY_MODEL_f327339adfb041a8aef0b94e0227ce16"
          },
          "model_module_version": "1.5.0"
        },
        "f327339adfb041a8aef0b94e0227ce16": {
          "model_module": "@jupyter-widgets/base",
          "model_name": "LayoutModel",
          "state": {
            "_model_module": "@jupyter-widgets/base",
            "_model_module_version": "1.2.0",
            "_model_name": "LayoutModel",
            "_view_count": null,
            "_view_module": "@jupyter-widgets/base",
            "_view_module_version": "1.2.0",
            "_view_name": "LayoutView",
            "align_content": null,
            "align_items": null,
            "align_self": null,
            "border": null,
            "bottom": null,
            "display": null,
            "flex": null,
            "flex_flow": null,
            "grid_area": null,
            "grid_auto_columns": null,
            "grid_auto_flow": null,
            "grid_auto_rows": null,
            "grid_column": null,
            "grid_gap": null,
            "grid_row": null,
            "grid_template_areas": null,
            "grid_template_columns": null,
            "grid_template_rows": null,
            "height": null,
            "justify_content": null,
            "justify_items": null,
            "left": null,
            "margin": null,
            "max_height": null,
            "max_width": null,
            "min_height": null,
            "min_width": null,
            "object_fit": null,
            "object_position": null,
            "order": null,
            "overflow": null,
            "overflow_x": null,
            "overflow_y": null,
            "padding": null,
            "right": null,
            "top": null,
            "visibility": null,
            "width": null
          },
          "model_module_version": "1.2.0"
        },
        "ad6268710ecc45719e2d74b822586a0b": {
          "model_module": "@jupyter-widgets/controls",
          "model_name": "FloatProgressModel",
          "state": {
            "_dom_classes": [],
            "_model_module": "@jupyter-widgets/controls",
            "_model_module_version": "1.5.0",
            "_model_name": "FloatProgressModel",
            "_view_count": null,
            "_view_module": "@jupyter-widgets/controls",
            "_view_module_version": "1.5.0",
            "_view_name": "ProgressView",
            "bar_style": "success",
            "description": "Dl Size...: 100%",
            "description_tooltip": null,
            "layout": "IPY_MODEL_dfe1a2628ce4466da31e0ebc1fa691d2",
            "max": 1,
            "min": 0,
            "orientation": "horizontal",
            "style": "IPY_MODEL_0feda2bf804d4a93abc6e9ac29e75736",
            "value": 1
          },
          "model_module_version": "1.5.0"
        },
        "1d8aab59382a4af08d4f137a3e91151c": {
          "model_module": "@jupyter-widgets/controls",
          "model_name": "HTMLModel",
          "state": {
            "_dom_classes": [],
            "_model_module": "@jupyter-widgets/controls",
            "_model_module_version": "1.5.0",
            "_model_name": "HTMLModel",
            "_view_count": null,
            "_view_module": "@jupyter-widgets/controls",
            "_view_module_version": "1.5.0",
            "_view_name": "HTMLView",
            "description": "",
            "description_tooltip": null,
            "layout": "IPY_MODEL_c5137f2c840844b099ea37eeecd58aa8",
            "placeholder": "​",
            "style": "IPY_MODEL_8ae757405ff74fa19e365a78567b7a70",
            "value": " 152/152 [00:05&lt;00:00, 27.30 MiB/s]"
          },
          "model_module_version": "1.5.0"
        },
        "0feda2bf804d4a93abc6e9ac29e75736": {
          "model_module": "@jupyter-widgets/controls",
          "model_name": "ProgressStyleModel",
          "state": {
            "_model_module": "@jupyter-widgets/controls",
            "_model_module_version": "1.5.0",
            "_model_name": "ProgressStyleModel",
            "_view_count": null,
            "_view_module": "@jupyter-widgets/base",
            "_view_module_version": "1.2.0",
            "_view_name": "StyleView",
            "bar_color": null,
            "description_width": "initial"
          },
          "model_module_version": "1.5.0"
        },
        "dfe1a2628ce4466da31e0ebc1fa691d2": {
          "model_module": "@jupyter-widgets/base",
          "model_name": "LayoutModel",
          "state": {
            "_model_module": "@jupyter-widgets/base",
            "_model_module_version": "1.2.0",
            "_model_name": "LayoutModel",
            "_view_count": null,
            "_view_module": "@jupyter-widgets/base",
            "_view_module_version": "1.2.0",
            "_view_name": "LayoutView",
            "align_content": null,
            "align_items": null,
            "align_self": null,
            "border": null,
            "bottom": null,
            "display": null,
            "flex": null,
            "flex_flow": null,
            "grid_area": null,
            "grid_auto_columns": null,
            "grid_auto_flow": null,
            "grid_auto_rows": null,
            "grid_column": null,
            "grid_gap": null,
            "grid_row": null,
            "grid_template_areas": null,
            "grid_template_columns": null,
            "grid_template_rows": null,
            "height": null,
            "justify_content": null,
            "justify_items": null,
            "left": null,
            "margin": null,
            "max_height": null,
            "max_width": null,
            "min_height": null,
            "min_width": null,
            "object_fit": null,
            "object_position": null,
            "order": null,
            "overflow": null,
            "overflow_x": null,
            "overflow_y": null,
            "padding": null,
            "right": null,
            "top": null,
            "visibility": null,
            "width": null
          },
          "model_module_version": "1.2.0"
        },
        "8ae757405ff74fa19e365a78567b7a70": {
          "model_module": "@jupyter-widgets/controls",
          "model_name": "DescriptionStyleModel",
          "state": {
            "_model_module": "@jupyter-widgets/controls",
            "_model_module_version": "1.5.0",
            "_model_name": "DescriptionStyleModel",
            "_view_count": null,
            "_view_module": "@jupyter-widgets/base",
            "_view_module_version": "1.2.0",
            "_view_name": "StyleView",
            "description_width": ""
          },
          "model_module_version": "1.5.0"
        },
        "c5137f2c840844b099ea37eeecd58aa8": {
          "model_module": "@jupyter-widgets/base",
          "model_name": "LayoutModel",
          "state": {
            "_model_module": "@jupyter-widgets/base",
            "_model_module_version": "1.2.0",
            "_model_name": "LayoutModel",
            "_view_count": null,
            "_view_module": "@jupyter-widgets/base",
            "_view_module_version": "1.2.0",
            "_view_name": "LayoutView",
            "align_content": null,
            "align_items": null,
            "align_self": null,
            "border": null,
            "bottom": null,
            "display": null,
            "flex": null,
            "flex_flow": null,
            "grid_area": null,
            "grid_auto_columns": null,
            "grid_auto_flow": null,
            "grid_auto_rows": null,
            "grid_column": null,
            "grid_gap": null,
            "grid_row": null,
            "grid_template_areas": null,
            "grid_template_columns": null,
            "grid_template_rows": null,
            "height": null,
            "justify_content": null,
            "justify_items": null,
            "left": null,
            "margin": null,
            "max_height": null,
            "max_width": null,
            "min_height": null,
            "min_width": null,
            "object_fit": null,
            "object_position": null,
            "order": null,
            "overflow": null,
            "overflow_x": null,
            "overflow_y": null,
            "padding": null,
            "right": null,
            "top": null,
            "visibility": null,
            "width": null
          },
          "model_module_version": "1.2.0"
        },
        "1dfe5d14a64248c4b903cb68a7042d61": {
          "model_module": "@jupyter-widgets/controls",
          "model_name": "HBoxModel",
          "state": {
            "_dom_classes": [],
            "_model_module": "@jupyter-widgets/controls",
            "_model_module_version": "1.5.0",
            "_model_name": "HBoxModel",
            "_view_count": null,
            "_view_module": "@jupyter-widgets/controls",
            "_view_module_version": "1.5.0",
            "_view_name": "HBoxView",
            "box_style": "",
            "children": [
              "IPY_MODEL_50e1544019834bc2980fe01fc4d5e63f",
              "IPY_MODEL_ff49826c9e83426095487cf91582a406"
            ],
            "layout": "IPY_MODEL_64fefa86dd494079b861a47ed160d7d9"
          },
          "model_module_version": "1.5.0"
        },
        "64fefa86dd494079b861a47ed160d7d9": {
          "model_module": "@jupyter-widgets/base",
          "model_name": "LayoutModel",
          "state": {
            "_model_module": "@jupyter-widgets/base",
            "_model_module_version": "1.2.0",
            "_model_name": "LayoutModel",
            "_view_count": null,
            "_view_module": "@jupyter-widgets/base",
            "_view_module_version": "1.2.0",
            "_view_name": "LayoutView",
            "align_content": null,
            "align_items": null,
            "align_self": null,
            "border": null,
            "bottom": null,
            "display": null,
            "flex": null,
            "flex_flow": null,
            "grid_area": null,
            "grid_auto_columns": null,
            "grid_auto_flow": null,
            "grid_auto_rows": null,
            "grid_column": null,
            "grid_gap": null,
            "grid_row": null,
            "grid_template_areas": null,
            "grid_template_columns": null,
            "grid_template_rows": null,
            "height": null,
            "justify_content": null,
            "justify_items": null,
            "left": null,
            "margin": null,
            "max_height": null,
            "max_width": null,
            "min_height": null,
            "min_width": null,
            "object_fit": null,
            "object_position": null,
            "order": null,
            "overflow": null,
            "overflow_x": null,
            "overflow_y": null,
            "padding": null,
            "right": null,
            "top": null,
            "visibility": null,
            "width": null
          },
          "model_module_version": "1.2.0"
        },
        "50e1544019834bc2980fe01fc4d5e63f": {
          "model_module": "@jupyter-widgets/controls",
          "model_name": "FloatProgressModel",
          "state": {
            "_dom_classes": [],
            "_model_module": "@jupyter-widgets/controls",
            "_model_module_version": "1.5.0",
            "_model_name": "FloatProgressModel",
            "_view_count": null,
            "_view_module": "@jupyter-widgets/controls",
            "_view_module_version": "1.5.0",
            "_view_name": "ProgressView",
            "bar_style": "info",
            "description": "",
            "description_tooltip": null,
            "layout": "IPY_MODEL_35efe888a4c04f05b52fc8d47e260189",
            "max": 1,
            "min": 0,
            "orientation": "horizontal",
            "style": "IPY_MODEL_a45c3a08221e4e3dacbf24ff5827e2f2",
            "value": 1
          },
          "model_module_version": "1.5.0"
        },
        "ff49826c9e83426095487cf91582a406": {
          "model_module": "@jupyter-widgets/controls",
          "model_name": "HTMLModel",
          "state": {
            "_dom_classes": [],
            "_model_module": "@jupyter-widgets/controls",
            "_model_module_version": "1.5.0",
            "_model_name": "HTMLModel",
            "_view_count": null,
            "_view_module": "@jupyter-widgets/controls",
            "_view_module_version": "1.5.0",
            "_view_name": "HTMLView",
            "description": "",
            "description_tooltip": null,
            "layout": "IPY_MODEL_06743cf16b4e4ba9aa100fe371d73394",
            "placeholder": "​",
            "style": "IPY_MODEL_ed4ee00de6b84bef91a0fb6fcf621bfc",
            "value": " 1027/0 [00:00&lt;00:00, 1331.04 examples/s]"
          },
          "model_module_version": "1.5.0"
        },
        "a45c3a08221e4e3dacbf24ff5827e2f2": {
          "model_module": "@jupyter-widgets/controls",
          "model_name": "ProgressStyleModel",
          "state": {
            "_model_module": "@jupyter-widgets/controls",
            "_model_module_version": "1.5.0",
            "_model_name": "ProgressStyleModel",
            "_view_count": null,
            "_view_module": "@jupyter-widgets/base",
            "_view_module_version": "1.2.0",
            "_view_name": "StyleView",
            "bar_color": null,
            "description_width": "initial"
          },
          "model_module_version": "1.5.0"
        },
        "35efe888a4c04f05b52fc8d47e260189": {
          "model_module": "@jupyter-widgets/base",
          "model_name": "LayoutModel",
          "state": {
            "_model_module": "@jupyter-widgets/base",
            "_model_module_version": "1.2.0",
            "_model_name": "LayoutModel",
            "_view_count": null,
            "_view_module": "@jupyter-widgets/base",
            "_view_module_version": "1.2.0",
            "_view_name": "LayoutView",
            "align_content": null,
            "align_items": null,
            "align_self": null,
            "border": null,
            "bottom": null,
            "display": null,
            "flex": null,
            "flex_flow": null,
            "grid_area": null,
            "grid_auto_columns": null,
            "grid_auto_flow": null,
            "grid_auto_rows": null,
            "grid_column": null,
            "grid_gap": null,
            "grid_row": null,
            "grid_template_areas": null,
            "grid_template_columns": null,
            "grid_template_rows": null,
            "height": null,
            "justify_content": null,
            "justify_items": null,
            "left": null,
            "margin": null,
            "max_height": null,
            "max_width": null,
            "min_height": null,
            "min_width": null,
            "object_fit": null,
            "object_position": null,
            "order": null,
            "overflow": null,
            "overflow_x": null,
            "overflow_y": null,
            "padding": null,
            "right": null,
            "top": null,
            "visibility": null,
            "width": null
          },
          "model_module_version": "1.2.0"
        },
        "ed4ee00de6b84bef91a0fb6fcf621bfc": {
          "model_module": "@jupyter-widgets/controls",
          "model_name": "DescriptionStyleModel",
          "state": {
            "_model_module": "@jupyter-widgets/controls",
            "_model_module_version": "1.5.0",
            "_model_name": "DescriptionStyleModel",
            "_view_count": null,
            "_view_module": "@jupyter-widgets/base",
            "_view_module_version": "1.2.0",
            "_view_name": "StyleView",
            "description_width": ""
          },
          "model_module_version": "1.5.0"
        },
        "06743cf16b4e4ba9aa100fe371d73394": {
          "model_module": "@jupyter-widgets/base",
          "model_name": "LayoutModel",
          "state": {
            "_model_module": "@jupyter-widgets/base",
            "_model_module_version": "1.2.0",
            "_model_name": "LayoutModel",
            "_view_count": null,
            "_view_module": "@jupyter-widgets/base",
            "_view_module_version": "1.2.0",
            "_view_name": "LayoutView",
            "align_content": null,
            "align_items": null,
            "align_self": null,
            "border": null,
            "bottom": null,
            "display": null,
            "flex": null,
            "flex_flow": null,
            "grid_area": null,
            "grid_auto_columns": null,
            "grid_auto_flow": null,
            "grid_auto_rows": null,
            "grid_column": null,
            "grid_gap": null,
            "grid_row": null,
            "grid_template_areas": null,
            "grid_template_columns": null,
            "grid_template_rows": null,
            "height": null,
            "justify_content": null,
            "justify_items": null,
            "left": null,
            "margin": null,
            "max_height": null,
            "max_width": null,
            "min_height": null,
            "min_width": null,
            "object_fit": null,
            "object_position": null,
            "order": null,
            "overflow": null,
            "overflow_x": null,
            "overflow_y": null,
            "padding": null,
            "right": null,
            "top": null,
            "visibility": null,
            "width": null
          },
          "model_module_version": "1.2.0"
        },
        "d5e81d7f129949e79234c44bd349fbc1": {
          "model_module": "@jupyter-widgets/controls",
          "model_name": "HBoxModel",
          "state": {
            "_dom_classes": [],
            "_model_module": "@jupyter-widgets/controls",
            "_model_module_version": "1.5.0",
            "_model_name": "HBoxModel",
            "_view_count": null,
            "_view_module": "@jupyter-widgets/controls",
            "_view_module_version": "1.5.0",
            "_view_name": "HBoxView",
            "box_style": "",
            "children": [
              "IPY_MODEL_61fb9e9889264ee1892eb63f4e0ebee7",
              "IPY_MODEL_4faaf4b2195d43dfa3ce63bca30351f7"
            ],
            "layout": "IPY_MODEL_e021a191002e470eb1065fe492cbee0a"
          },
          "model_module_version": "1.5.0"
        },
        "e021a191002e470eb1065fe492cbee0a": {
          "model_module": "@jupyter-widgets/base",
          "model_name": "LayoutModel",
          "state": {
            "_model_module": "@jupyter-widgets/base",
            "_model_module_version": "1.2.0",
            "_model_name": "LayoutModel",
            "_view_count": null,
            "_view_module": "@jupyter-widgets/base",
            "_view_module_version": "1.2.0",
            "_view_name": "LayoutView",
            "align_content": null,
            "align_items": null,
            "align_self": null,
            "border": null,
            "bottom": null,
            "display": null,
            "flex": null,
            "flex_flow": null,
            "grid_area": null,
            "grid_auto_columns": null,
            "grid_auto_flow": null,
            "grid_auto_rows": null,
            "grid_column": null,
            "grid_gap": null,
            "grid_row": null,
            "grid_template_areas": null,
            "grid_template_columns": null,
            "grid_template_rows": null,
            "height": null,
            "justify_content": null,
            "justify_items": null,
            "left": null,
            "margin": null,
            "max_height": null,
            "max_width": null,
            "min_height": null,
            "min_width": null,
            "object_fit": null,
            "object_position": null,
            "order": null,
            "overflow": null,
            "overflow_x": null,
            "overflow_y": null,
            "padding": null,
            "right": null,
            "top": null,
            "visibility": null,
            "width": null
          },
          "model_module_version": "1.2.0"
        },
        "61fb9e9889264ee1892eb63f4e0ebee7": {
          "model_module": "@jupyter-widgets/controls",
          "model_name": "FloatProgressModel",
          "state": {
            "_dom_classes": [],
            "_model_module": "@jupyter-widgets/controls",
            "_model_module_version": "1.5.0",
            "_model_name": "FloatProgressModel",
            "_view_count": null,
            "_view_module": "@jupyter-widgets/controls",
            "_view_module_version": "1.5.0",
            "_view_name": "ProgressView",
            "bar_style": "danger",
            "description": " 47%",
            "description_tooltip": null,
            "layout": "IPY_MODEL_2ac6062f6f6a41cbb3d35a689b003618",
            "max": 1027,
            "min": 0,
            "orientation": "horizontal",
            "style": "IPY_MODEL_df3b0ecfb4494a7c927e38258aff4985",
            "value": 484
          },
          "model_module_version": "1.5.0"
        },
        "4faaf4b2195d43dfa3ce63bca30351f7": {
          "model_module": "@jupyter-widgets/controls",
          "model_name": "HTMLModel",
          "state": {
            "_dom_classes": [],
            "_model_module": "@jupyter-widgets/controls",
            "_model_module_version": "1.5.0",
            "_model_name": "HTMLModel",
            "_view_count": null,
            "_view_module": "@jupyter-widgets/controls",
            "_view_module_version": "1.5.0",
            "_view_name": "HTMLView",
            "description": "",
            "description_tooltip": null,
            "layout": "IPY_MODEL_8d1264d12f46415fb49c957f25832108",
            "placeholder": "​",
            "style": "IPY_MODEL_44ceeadd532b465b99d2301e07f3fd1f",
            "value": " 484/1027 [00:00&lt;00:00, 4837.17 examples/s]"
          },
          "model_module_version": "1.5.0"
        },
        "df3b0ecfb4494a7c927e38258aff4985": {
          "model_module": "@jupyter-widgets/controls",
          "model_name": "ProgressStyleModel",
          "state": {
            "_model_module": "@jupyter-widgets/controls",
            "_model_module_version": "1.5.0",
            "_model_name": "ProgressStyleModel",
            "_view_count": null,
            "_view_module": "@jupyter-widgets/base",
            "_view_module_version": "1.2.0",
            "_view_name": "StyleView",
            "bar_color": null,
            "description_width": "initial"
          },
          "model_module_version": "1.5.0"
        },
        "2ac6062f6f6a41cbb3d35a689b003618": {
          "model_module": "@jupyter-widgets/base",
          "model_name": "LayoutModel",
          "state": {
            "_model_module": "@jupyter-widgets/base",
            "_model_module_version": "1.2.0",
            "_model_name": "LayoutModel",
            "_view_count": null,
            "_view_module": "@jupyter-widgets/base",
            "_view_module_version": "1.2.0",
            "_view_name": "LayoutView",
            "align_content": null,
            "align_items": null,
            "align_self": null,
            "border": null,
            "bottom": null,
            "display": null,
            "flex": null,
            "flex_flow": null,
            "grid_area": null,
            "grid_auto_columns": null,
            "grid_auto_flow": null,
            "grid_auto_rows": null,
            "grid_column": null,
            "grid_gap": null,
            "grid_row": null,
            "grid_template_areas": null,
            "grid_template_columns": null,
            "grid_template_rows": null,
            "height": null,
            "justify_content": null,
            "justify_items": null,
            "left": null,
            "margin": null,
            "max_height": null,
            "max_width": null,
            "min_height": null,
            "min_width": null,
            "object_fit": null,
            "object_position": null,
            "order": null,
            "overflow": null,
            "overflow_x": null,
            "overflow_y": null,
            "padding": null,
            "right": null,
            "top": null,
            "visibility": null,
            "width": null
          },
          "model_module_version": "1.2.0"
        },
        "44ceeadd532b465b99d2301e07f3fd1f": {
          "model_module": "@jupyter-widgets/controls",
          "model_name": "DescriptionStyleModel",
          "state": {
            "_model_module": "@jupyter-widgets/controls",
            "_model_module_version": "1.5.0",
            "_model_name": "DescriptionStyleModel",
            "_view_count": null,
            "_view_module": "@jupyter-widgets/base",
            "_view_module_version": "1.2.0",
            "_view_name": "StyleView",
            "description_width": ""
          },
          "model_module_version": "1.5.0"
        },
        "8d1264d12f46415fb49c957f25832108": {
          "model_module": "@jupyter-widgets/base",
          "model_name": "LayoutModel",
          "state": {
            "_model_module": "@jupyter-widgets/base",
            "_model_module_version": "1.2.0",
            "_model_name": "LayoutModel",
            "_view_count": null,
            "_view_module": "@jupyter-widgets/base",
            "_view_module_version": "1.2.0",
            "_view_name": "LayoutView",
            "align_content": null,
            "align_items": null,
            "align_self": null,
            "border": null,
            "bottom": null,
            "display": null,
            "flex": null,
            "flex_flow": null,
            "grid_area": null,
            "grid_auto_columns": null,
            "grid_auto_flow": null,
            "grid_auto_rows": null,
            "grid_column": null,
            "grid_gap": null,
            "grid_row": null,
            "grid_template_areas": null,
            "grid_template_columns": null,
            "grid_template_rows": null,
            "height": null,
            "justify_content": null,
            "justify_items": null,
            "left": null,
            "margin": null,
            "max_height": null,
            "max_width": null,
            "min_height": null,
            "min_width": null,
            "object_fit": null,
            "object_position": null,
            "order": null,
            "overflow": null,
            "overflow_x": null,
            "overflow_y": null,
            "padding": null,
            "right": null,
            "top": null,
            "visibility": null,
            "width": null
          },
          "model_module_version": "1.2.0"
        },
        "b78b9ff85bcc4c33a89218a93d9ccd65": {
          "model_module": "@jupyter-widgets/controls",
          "model_name": "HBoxModel",
          "state": {
            "_dom_classes": [],
            "_model_module": "@jupyter-widgets/controls",
            "_model_module_version": "1.5.0",
            "_model_name": "HBoxModel",
            "_view_count": null,
            "_view_module": "@jupyter-widgets/controls",
            "_view_module_version": "1.5.0",
            "_view_name": "HBoxView",
            "box_style": "",
            "children": [
              "IPY_MODEL_0b30e5847d424da5befbb0e9f9bd27fb",
              "IPY_MODEL_1ff74f8d5f554aa89b8768f34f27bb16"
            ],
            "layout": "IPY_MODEL_763bc7d4e60d4e06b7536294f7d2d0e2"
          },
          "model_module_version": "1.5.0"
        },
        "763bc7d4e60d4e06b7536294f7d2d0e2": {
          "model_module": "@jupyter-widgets/base",
          "model_name": "LayoutModel",
          "state": {
            "_model_module": "@jupyter-widgets/base",
            "_model_module_version": "1.2.0",
            "_model_name": "LayoutModel",
            "_view_count": null,
            "_view_module": "@jupyter-widgets/base",
            "_view_module_version": "1.2.0",
            "_view_name": "LayoutView",
            "align_content": null,
            "align_items": null,
            "align_self": null,
            "border": null,
            "bottom": null,
            "display": null,
            "flex": null,
            "flex_flow": null,
            "grid_area": null,
            "grid_auto_columns": null,
            "grid_auto_flow": null,
            "grid_auto_rows": null,
            "grid_column": null,
            "grid_gap": null,
            "grid_row": null,
            "grid_template_areas": null,
            "grid_template_columns": null,
            "grid_template_rows": null,
            "height": null,
            "justify_content": null,
            "justify_items": null,
            "left": null,
            "margin": null,
            "max_height": null,
            "max_width": null,
            "min_height": null,
            "min_width": null,
            "object_fit": null,
            "object_position": null,
            "order": null,
            "overflow": null,
            "overflow_x": null,
            "overflow_y": null,
            "padding": null,
            "right": null,
            "top": null,
            "visibility": null,
            "width": null
          },
          "model_module_version": "1.2.0"
        },
        "0b30e5847d424da5befbb0e9f9bd27fb": {
          "model_module": "@jupyter-widgets/controls",
          "model_name": "FloatProgressModel",
          "state": {
            "_dom_classes": [],
            "_model_module": "@jupyter-widgets/controls",
            "_model_module_version": "1.5.0",
            "_model_name": "FloatProgressModel",
            "_view_count": null,
            "_view_module": "@jupyter-widgets/controls",
            "_view_module_version": "1.5.0",
            "_view_name": "ProgressView",
            "bar_style": "info",
            "description": "",
            "description_tooltip": null,
            "layout": "IPY_MODEL_97f7506cfce54affb3c0075370be02e8",
            "max": 1,
            "min": 0,
            "orientation": "horizontal",
            "style": "IPY_MODEL_2e5f27aa4d834727a92bf1a2861f849a",
            "value": 1
          },
          "model_module_version": "1.5.0"
        },
        "1ff74f8d5f554aa89b8768f34f27bb16": {
          "model_module": "@jupyter-widgets/controls",
          "model_name": "HTMLModel",
          "state": {
            "_dom_classes": [],
            "_model_module": "@jupyter-widgets/controls",
            "_model_module_version": "1.5.0",
            "_model_name": "HTMLModel",
            "_view_count": null,
            "_view_module": "@jupyter-widgets/controls",
            "_view_module_version": "1.5.0",
            "_view_name": "HTMLView",
            "description": "",
            "description_tooltip": null,
            "layout": "IPY_MODEL_5c8637ee93d64a35baaa1303ef3984bd",
            "placeholder": "​",
            "style": "IPY_MODEL_a700127fb7e04e0f85d38b36e5318e97",
            "value": " 256/0 [00:00&lt;00:00, 713.78 examples/s]"
          },
          "model_module_version": "1.5.0"
        },
        "2e5f27aa4d834727a92bf1a2861f849a": {
          "model_module": "@jupyter-widgets/controls",
          "model_name": "ProgressStyleModel",
          "state": {
            "_model_module": "@jupyter-widgets/controls",
            "_model_module_version": "1.5.0",
            "_model_name": "ProgressStyleModel",
            "_view_count": null,
            "_view_module": "@jupyter-widgets/base",
            "_view_module_version": "1.2.0",
            "_view_name": "StyleView",
            "bar_color": null,
            "description_width": "initial"
          },
          "model_module_version": "1.5.0"
        },
        "97f7506cfce54affb3c0075370be02e8": {
          "model_module": "@jupyter-widgets/base",
          "model_name": "LayoutModel",
          "state": {
            "_model_module": "@jupyter-widgets/base",
            "_model_module_version": "1.2.0",
            "_model_name": "LayoutModel",
            "_view_count": null,
            "_view_module": "@jupyter-widgets/base",
            "_view_module_version": "1.2.0",
            "_view_name": "LayoutView",
            "align_content": null,
            "align_items": null,
            "align_self": null,
            "border": null,
            "bottom": null,
            "display": null,
            "flex": null,
            "flex_flow": null,
            "grid_area": null,
            "grid_auto_columns": null,
            "grid_auto_flow": null,
            "grid_auto_rows": null,
            "grid_column": null,
            "grid_gap": null,
            "grid_row": null,
            "grid_template_areas": null,
            "grid_template_columns": null,
            "grid_template_rows": null,
            "height": null,
            "justify_content": null,
            "justify_items": null,
            "left": null,
            "margin": null,
            "max_height": null,
            "max_width": null,
            "min_height": null,
            "min_width": null,
            "object_fit": null,
            "object_position": null,
            "order": null,
            "overflow": null,
            "overflow_x": null,
            "overflow_y": null,
            "padding": null,
            "right": null,
            "top": null,
            "visibility": null,
            "width": null
          },
          "model_module_version": "1.2.0"
        },
        "a700127fb7e04e0f85d38b36e5318e97": {
          "model_module": "@jupyter-widgets/controls",
          "model_name": "DescriptionStyleModel",
          "state": {
            "_model_module": "@jupyter-widgets/controls",
            "_model_module_version": "1.5.0",
            "_model_name": "DescriptionStyleModel",
            "_view_count": null,
            "_view_module": "@jupyter-widgets/base",
            "_view_module_version": "1.2.0",
            "_view_name": "StyleView",
            "description_width": ""
          },
          "model_module_version": "1.5.0"
        },
        "5c8637ee93d64a35baaa1303ef3984bd": {
          "model_module": "@jupyter-widgets/base",
          "model_name": "LayoutModel",
          "state": {
            "_model_module": "@jupyter-widgets/base",
            "_model_module_version": "1.2.0",
            "_model_name": "LayoutModel",
            "_view_count": null,
            "_view_module": "@jupyter-widgets/base",
            "_view_module_version": "1.2.0",
            "_view_name": "LayoutView",
            "align_content": null,
            "align_items": null,
            "align_self": null,
            "border": null,
            "bottom": null,
            "display": null,
            "flex": null,
            "flex_flow": null,
            "grid_area": null,
            "grid_auto_columns": null,
            "grid_auto_flow": null,
            "grid_auto_rows": null,
            "grid_column": null,
            "grid_gap": null,
            "grid_row": null,
            "grid_template_areas": null,
            "grid_template_columns": null,
            "grid_template_rows": null,
            "height": null,
            "justify_content": null,
            "justify_items": null,
            "left": null,
            "margin": null,
            "max_height": null,
            "max_width": null,
            "min_height": null,
            "min_width": null,
            "object_fit": null,
            "object_position": null,
            "order": null,
            "overflow": null,
            "overflow_x": null,
            "overflow_y": null,
            "padding": null,
            "right": null,
            "top": null,
            "visibility": null,
            "width": null
          },
          "model_module_version": "1.2.0"
        },
        "78ff9946fab14525bc09d762bf8dbcb5": {
          "model_module": "@jupyter-widgets/controls",
          "model_name": "HBoxModel",
          "state": {
            "_dom_classes": [],
            "_model_module": "@jupyter-widgets/controls",
            "_model_module_version": "1.5.0",
            "_model_name": "HBoxModel",
            "_view_count": null,
            "_view_module": "@jupyter-widgets/controls",
            "_view_module_version": "1.5.0",
            "_view_name": "HBoxView",
            "box_style": "",
            "children": [
              "IPY_MODEL_6002f725baed4e62a6eae50ef3719eea",
              "IPY_MODEL_3077a7190663459e8939e33a01835fb7"
            ],
            "layout": "IPY_MODEL_f095940cee6c46ce883e21b06fab3437"
          },
          "model_module_version": "1.5.0"
        },
        "f095940cee6c46ce883e21b06fab3437": {
          "model_module": "@jupyter-widgets/base",
          "model_name": "LayoutModel",
          "state": {
            "_model_module": "@jupyter-widgets/base",
            "_model_module_version": "1.2.0",
            "_model_name": "LayoutModel",
            "_view_count": null,
            "_view_module": "@jupyter-widgets/base",
            "_view_module_version": "1.2.0",
            "_view_name": "LayoutView",
            "align_content": null,
            "align_items": null,
            "align_self": null,
            "border": null,
            "bottom": null,
            "display": null,
            "flex": null,
            "flex_flow": null,
            "grid_area": null,
            "grid_auto_columns": null,
            "grid_auto_flow": null,
            "grid_auto_rows": null,
            "grid_column": null,
            "grid_gap": null,
            "grid_row": null,
            "grid_template_areas": null,
            "grid_template_columns": null,
            "grid_template_rows": null,
            "height": null,
            "justify_content": null,
            "justify_items": null,
            "left": null,
            "margin": null,
            "max_height": null,
            "max_width": null,
            "min_height": null,
            "min_width": null,
            "object_fit": null,
            "object_position": null,
            "order": null,
            "overflow": null,
            "overflow_x": null,
            "overflow_y": null,
            "padding": null,
            "right": null,
            "top": null,
            "visibility": null,
            "width": null
          },
          "model_module_version": "1.2.0"
        },
        "6002f725baed4e62a6eae50ef3719eea": {
          "model_module": "@jupyter-widgets/controls",
          "model_name": "FloatProgressModel",
          "state": {
            "_dom_classes": [],
            "_model_module": "@jupyter-widgets/controls",
            "_model_module_version": "1.5.0",
            "_model_name": "FloatProgressModel",
            "_view_count": null,
            "_view_module": "@jupyter-widgets/controls",
            "_view_module_version": "1.5.0",
            "_view_name": "ProgressView",
            "bar_style": "danger",
            "description": "  0%",
            "description_tooltip": null,
            "layout": "IPY_MODEL_a522344632b84350b61c3132982d22be",
            "max": 256,
            "min": 0,
            "orientation": "horizontal",
            "style": "IPY_MODEL_7569535a3af647f3901c49cc08e58876",
            "value": 0
          },
          "model_module_version": "1.5.0"
        },
        "3077a7190663459e8939e33a01835fb7": {
          "model_module": "@jupyter-widgets/controls",
          "model_name": "HTMLModel",
          "state": {
            "_dom_classes": [],
            "_model_module": "@jupyter-widgets/controls",
            "_model_module_version": "1.5.0",
            "_model_name": "HTMLModel",
            "_view_count": null,
            "_view_module": "@jupyter-widgets/controls",
            "_view_module_version": "1.5.0",
            "_view_name": "HTMLView",
            "description": "",
            "description_tooltip": null,
            "layout": "IPY_MODEL_53e6f4e9ebde44509fc10f2c8469c8a0",
            "placeholder": "​",
            "style": "IPY_MODEL_6fd8705d830b4dd59383031a322f959e",
            "value": " 0/256 [00:00&lt;?, ? examples/s]"
          },
          "model_module_version": "1.5.0"
        },
        "7569535a3af647f3901c49cc08e58876": {
          "model_module": "@jupyter-widgets/controls",
          "model_name": "ProgressStyleModel",
          "state": {
            "_model_module": "@jupyter-widgets/controls",
            "_model_module_version": "1.5.0",
            "_model_name": "ProgressStyleModel",
            "_view_count": null,
            "_view_module": "@jupyter-widgets/base",
            "_view_module_version": "1.2.0",
            "_view_name": "StyleView",
            "bar_color": null,
            "description_width": "initial"
          },
          "model_module_version": "1.5.0"
        },
        "a522344632b84350b61c3132982d22be": {
          "model_module": "@jupyter-widgets/base",
          "model_name": "LayoutModel",
          "state": {
            "_model_module": "@jupyter-widgets/base",
            "_model_module_version": "1.2.0",
            "_model_name": "LayoutModel",
            "_view_count": null,
            "_view_module": "@jupyter-widgets/base",
            "_view_module_version": "1.2.0",
            "_view_name": "LayoutView",
            "align_content": null,
            "align_items": null,
            "align_self": null,
            "border": null,
            "bottom": null,
            "display": null,
            "flex": null,
            "flex_flow": null,
            "grid_area": null,
            "grid_auto_columns": null,
            "grid_auto_flow": null,
            "grid_auto_rows": null,
            "grid_column": null,
            "grid_gap": null,
            "grid_row": null,
            "grid_template_areas": null,
            "grid_template_columns": null,
            "grid_template_rows": null,
            "height": null,
            "justify_content": null,
            "justify_items": null,
            "left": null,
            "margin": null,
            "max_height": null,
            "max_width": null,
            "min_height": null,
            "min_width": null,
            "object_fit": null,
            "object_position": null,
            "order": null,
            "overflow": null,
            "overflow_x": null,
            "overflow_y": null,
            "padding": null,
            "right": null,
            "top": null,
            "visibility": null,
            "width": null
          },
          "model_module_version": "1.2.0"
        },
        "6fd8705d830b4dd59383031a322f959e": {
          "model_module": "@jupyter-widgets/controls",
          "model_name": "DescriptionStyleModel",
          "state": {
            "_model_module": "@jupyter-widgets/controls",
            "_model_module_version": "1.5.0",
            "_model_name": "DescriptionStyleModel",
            "_view_count": null,
            "_view_module": "@jupyter-widgets/base",
            "_view_module_version": "1.2.0",
            "_view_name": "StyleView",
            "description_width": ""
          },
          "model_module_version": "1.5.0"
        },
        "53e6f4e9ebde44509fc10f2c8469c8a0": {
          "model_module": "@jupyter-widgets/base",
          "model_name": "LayoutModel",
          "state": {
            "_model_module": "@jupyter-widgets/base",
            "_model_module_version": "1.2.0",
            "_model_name": "LayoutModel",
            "_view_count": null,
            "_view_module": "@jupyter-widgets/base",
            "_view_module_version": "1.2.0",
            "_view_name": "LayoutView",
            "align_content": null,
            "align_items": null,
            "align_self": null,
            "border": null,
            "bottom": null,
            "display": null,
            "flex": null,
            "flex_flow": null,
            "grid_area": null,
            "grid_auto_columns": null,
            "grid_auto_flow": null,
            "grid_auto_rows": null,
            "grid_column": null,
            "grid_gap": null,
            "grid_row": null,
            "grid_template_areas": null,
            "grid_template_columns": null,
            "grid_template_rows": null,
            "height": null,
            "justify_content": null,
            "justify_items": null,
            "left": null,
            "margin": null,
            "max_height": null,
            "max_width": null,
            "min_height": null,
            "min_width": null,
            "object_fit": null,
            "object_position": null,
            "order": null,
            "overflow": null,
            "overflow_x": null,
            "overflow_y": null,
            "padding": null,
            "right": null,
            "top": null,
            "visibility": null,
            "width": null
          },
          "model_module_version": "1.2.0"
        }
      }
    }
  },
  "cells": [
    {
      "cell_type": "markdown",
      "metadata": {
        "id": "eCYgu2bYsVDY"
      },
      "source": [
        "\n",
        "\n",
        "<center>\n",
        "    <h1 style=\"color:red;text-align:center;\">\n",
        "        Best Model Selection\n",
        "    </h1>\n",
        "    <h3>Deep Learning Enthusiast, It for you</h3>\n",
        "</center>\n",
        "\n",
        "Hi Deep learning enthusiast,  You must be work with model.In transfer learning method\n",
        "everyone try make own model using pretrain model (EfficientB7, VGG-19, inceptionv3, resnet, etc)\n",
        "\n",
        "<h4 style='color: red' > But which model may be best for you? </h4>\n",
        "Criteria for selecting models\n",
        "In general, there are two competing criteria while doing any machine learning task in the industry:\n",
        "\n",
        "1.Accuracy of the model: Higher Better\n",
        "\n",
        "2.Speed of Model Training and Predictions: Faster Better\n",
        "\n",
        "\n",
        "#### Selecting best model step by step"
      ]
    },
    {
      "cell_type": "markdown",
      "metadata": {
        "id": "eNtlfUMhCM5k"
      },
      "source": [
        "<h3 style='color: green' >STEP 1 : import packages</h3>\n",
        "\n",
        "The first step is to import the necessary packages."
      ]
    },
    {
      "cell_type": "code",
      "metadata": {
        "id": "6vZbSfwLsVDd"
      },
      "source": [
        "# Imports\n",
        "import tensorflow as tf\n",
        "\n",
        "import pandas as pd\n",
        "import matplotlib.pyplot as plt\n",
        "import inspect\n",
        "from tqdm import tqdm\n",
        "\n",
        "# Set batch size for training and validation\n",
        "batch_size = 32"
      ],
      "execution_count": null,
      "outputs": []
    },
    {
      "cell_type": "markdown",
      "metadata": {
        "id": "IzPKSxcSCM5l"
      },
      "source": [
        "<h3 style='color: green' >STEP 2 : list all pretrain model</h3>\n",
        "\n",
        "Automatically get a list of all available pre-trained models from Keras by listing all the functions inside `tf.keras.applications`. Since each model is instantiated by calling a function from `tf.keras.applications`, when we list all the functions within this module using `inspect.isfunction`, we get a list of all the models. As of this writing, in [Tensorflow 2.2]"
      ]
    },
    {
      "cell_type": "code",
      "metadata": {
        "id": "24lq1JQ1sVDf"
      },
      "source": [
        "\n",
        "# List all available models\n",
        "model_dictionary = {m[0]:m[1] for m in inspect.getmembers(tf.keras.applications, inspect.isfunction)}"
      ],
      "execution_count": null,
      "outputs": []
    },
    {
      "cell_type": "code",
      "metadata": {
        "colab": {
          "base_uri": "https://localhost:8080/"
        },
        "id": "RIvTczttskiu",
        "outputId": "9c36e413-cdea-4707-9298-cc2fce14fbc1"
      },
      "source": [
        "model_dictionary"
      ],
      "execution_count": null,
      "outputs": [
        {
          "output_type": "execute_result",
          "data": {
            "text/plain": [
              "{'DenseNet121': <function tensorflow.python.keras.applications.densenet.DenseNet121>,\n",
              " 'DenseNet169': <function tensorflow.python.keras.applications.densenet.DenseNet169>,\n",
              " 'DenseNet201': <function tensorflow.python.keras.applications.densenet.DenseNet201>,\n",
              " 'EfficientNetB0': <function tensorflow.python.keras.applications.efficientnet.EfficientNetB0>,\n",
              " 'EfficientNetB1': <function tensorflow.python.keras.applications.efficientnet.EfficientNetB1>,\n",
              " 'EfficientNetB2': <function tensorflow.python.keras.applications.efficientnet.EfficientNetB2>,\n",
              " 'EfficientNetB3': <function tensorflow.python.keras.applications.efficientnet.EfficientNetB3>,\n",
              " 'EfficientNetB4': <function tensorflow.python.keras.applications.efficientnet.EfficientNetB4>,\n",
              " 'EfficientNetB5': <function tensorflow.python.keras.applications.efficientnet.EfficientNetB5>,\n",
              " 'EfficientNetB6': <function tensorflow.python.keras.applications.efficientnet.EfficientNetB6>,\n",
              " 'EfficientNetB7': <function tensorflow.python.keras.applications.efficientnet.EfficientNetB7>,\n",
              " 'InceptionResNetV2': <function tensorflow.python.keras.applications.inception_resnet_v2.InceptionResNetV2>,\n",
              " 'InceptionV3': <function tensorflow.python.keras.applications.inception_v3.InceptionV3>,\n",
              " 'MobileNet': <function tensorflow.python.keras.applications.mobilenet.MobileNet>,\n",
              " 'MobileNetV2': <function tensorflow.python.keras.applications.mobilenet_v2.MobileNetV2>,\n",
              " 'MobileNetV3Large': <function tensorflow.python.keras.applications.mobilenet_v3.MobileNetV3Large>,\n",
              " 'MobileNetV3Small': <function tensorflow.python.keras.applications.mobilenet_v3.MobileNetV3Small>,\n",
              " 'NASNetLarge': <function tensorflow.python.keras.applications.nasnet.NASNetLarge>,\n",
              " 'NASNetMobile': <function tensorflow.python.keras.applications.nasnet.NASNetMobile>,\n",
              " 'ResNet101': <function tensorflow.python.keras.applications.resnet.ResNet101>,\n",
              " 'ResNet101V2': <function tensorflow.python.keras.applications.resnet_v2.ResNet101V2>,\n",
              " 'ResNet152': <function tensorflow.python.keras.applications.resnet.ResNet152>,\n",
              " 'ResNet152V2': <function tensorflow.python.keras.applications.resnet_v2.ResNet152V2>,\n",
              " 'ResNet50': <function tensorflow.python.keras.applications.resnet.ResNet50>,\n",
              " 'ResNet50V2': <function tensorflow.python.keras.applications.resnet_v2.ResNet50V2>,\n",
              " 'VGG16': <function tensorflow.python.keras.applications.vgg16.VGG16>,\n",
              " 'VGG19': <function tensorflow.python.keras.applications.vgg19.VGG19>,\n",
              " 'Xception': <function tensorflow.python.keras.applications.xception.Xception>}"
            ]
          },
          "metadata": {
            "tags": []
          },
          "execution_count": 4
        }
      ]
    },
    {
      "cell_type": "markdown",
      "metadata": {
        "id": "GYgqBS6dsVDf"
      },
      "source": [
        "<h3 style='color: green' >STEP 3 : Download dataset</h3>\n",
        "\n",
        "Download dataset to run the experiment. you can use tensorflow default datasets or you can use your custom dataset.\n",
        "\n",
        "Here used tensorflow dataset -----------horses_or_humans\n",
        "So its a binary classification problem, but you can use multi classes dataset , just change the name 'horses_or_humans' like as 'cats_and_dogs'.(70+ tensorflow datasets , you can choose anyone or make your own dataset)"
      ]
    },
    {
      "cell_type": "code",
      "metadata": {
        "colab": {
          "base_uri": "https://localhost:8080/"
        },
        "collapsed": true,
        "id": "TvxFgXa8g_uZ",
        "outputId": "497e7ca0-54af-4888-ce17-1822e97999a3"
      },
      "source": [
        "!pip install tensorflow_datasets\n",
        "import tensorflow_datasets as tfds"
      ],
      "execution_count": null,
      "outputs": [
        {
          "output_type": "stream",
          "text": [
            "Requirement already satisfied: tensorflow_datasets in /usr/local/lib/python3.7/dist-packages (4.0.1)\n",
            "Requirement already satisfied: tqdm in /usr/local/lib/python3.7/dist-packages (from tensorflow_datasets) (4.41.1)\n",
            "Requirement already satisfied: importlib-resources; python_version < \"3.9\" in /usr/local/lib/python3.7/dist-packages (from tensorflow_datasets) (5.1.4)\n",
            "Requirement already satisfied: six in /usr/local/lib/python3.7/dist-packages (from tensorflow_datasets) (1.15.0)\n",
            "Requirement already satisfied: tensorflow-metadata in /usr/local/lib/python3.7/dist-packages (from tensorflow_datasets) (1.0.0)\n",
            "Requirement already satisfied: dm-tree in /usr/local/lib/python3.7/dist-packages (from tensorflow_datasets) (0.1.6)\n",
            "Requirement already satisfied: dill in /usr/local/lib/python3.7/dist-packages (from tensorflow_datasets) (0.3.4)\n",
            "Requirement already satisfied: future in /usr/local/lib/python3.7/dist-packages (from tensorflow_datasets) (0.16.0)\n",
            "Requirement already satisfied: promise in /usr/local/lib/python3.7/dist-packages (from tensorflow_datasets) (2.3)\n",
            "Requirement already satisfied: protobuf>=3.6.1 in /usr/local/lib/python3.7/dist-packages (from tensorflow_datasets) (3.12.4)\n",
            "Requirement already satisfied: numpy in /usr/local/lib/python3.7/dist-packages (from tensorflow_datasets) (1.19.5)\n",
            "Requirement already satisfied: requests>=2.19.0 in /usr/local/lib/python3.7/dist-packages (from tensorflow_datasets) (2.23.0)\n",
            "Requirement already satisfied: termcolor in /usr/local/lib/python3.7/dist-packages (from tensorflow_datasets) (1.1.0)\n",
            "Requirement already satisfied: attrs>=18.1.0 in /usr/local/lib/python3.7/dist-packages (from tensorflow_datasets) (21.2.0)\n",
            "Requirement already satisfied: absl-py in /usr/local/lib/python3.7/dist-packages (from tensorflow_datasets) (0.12.0)\n",
            "Requirement already satisfied: zipp>=3.1.0; python_version < \"3.10\" in /usr/local/lib/python3.7/dist-packages (from importlib-resources; python_version < \"3.9\"->tensorflow_datasets) (3.4.1)\n",
            "Requirement already satisfied: googleapis-common-protos<2,>=1.52.0 in /usr/local/lib/python3.7/dist-packages (from tensorflow-metadata->tensorflow_datasets) (1.53.0)\n",
            "Requirement already satisfied: setuptools in /usr/local/lib/python3.7/dist-packages (from protobuf>=3.6.1->tensorflow_datasets) (57.0.0)\n",
            "Requirement already satisfied: idna<3,>=2.5 in /usr/local/lib/python3.7/dist-packages (from requests>=2.19.0->tensorflow_datasets) (2.10)\n",
            "Requirement already satisfied: chardet<4,>=3.0.2 in /usr/local/lib/python3.7/dist-packages (from requests>=2.19.0->tensorflow_datasets) (3.0.4)\n",
            "Requirement already satisfied: certifi>=2017.4.17 in /usr/local/lib/python3.7/dist-packages (from requests>=2.19.0->tensorflow_datasets) (2021.5.30)\n",
            "Requirement already satisfied: urllib3!=1.25.0,!=1.25.1,<1.26,>=1.21.1 in /usr/local/lib/python3.7/dist-packages (from requests>=2.19.0->tensorflow_datasets) (1.24.3)\n"
          ],
          "name": "stdout"
        }
      ]
    },
    {
      "cell_type": "code",
      "metadata": {
        "colab": {
          "base_uri": "https://localhost:8080/",
          "height": 366,
          "referenced_widgets": [
            "6f89c0cf65e54d9eb3109fff6c3566b2",
            "d7e159811667491090ee293330b70f7e",
            "fae476f38b0541cea313453aa4eccdb8",
            "086f3841391b4371bf367d86b41f77d4",
            "925fd832f9f34ad3a9c3ac3208b49439",
            "c9c5f53fb7c84bc5a315ecfbe89fb501",
            "34ce5bdd0722436db2fd10a4edc1e353",
            "92712eedcc93444b81364edcbcaf7027",
            "0dba2f3e95194357a15b090d4720ed0b",
            "f327339adfb041a8aef0b94e0227ce16",
            "ad6268710ecc45719e2d74b822586a0b",
            "1d8aab59382a4af08d4f137a3e91151c",
            "0feda2bf804d4a93abc6e9ac29e75736",
            "dfe1a2628ce4466da31e0ebc1fa691d2",
            "8ae757405ff74fa19e365a78567b7a70",
            "c5137f2c840844b099ea37eeecd58aa8",
            "1dfe5d14a64248c4b903cb68a7042d61",
            "64fefa86dd494079b861a47ed160d7d9",
            "50e1544019834bc2980fe01fc4d5e63f",
            "ff49826c9e83426095487cf91582a406",
            "a45c3a08221e4e3dacbf24ff5827e2f2",
            "35efe888a4c04f05b52fc8d47e260189",
            "ed4ee00de6b84bef91a0fb6fcf621bfc",
            "06743cf16b4e4ba9aa100fe371d73394",
            "d5e81d7f129949e79234c44bd349fbc1",
            "e021a191002e470eb1065fe492cbee0a",
            "61fb9e9889264ee1892eb63f4e0ebee7",
            "4faaf4b2195d43dfa3ce63bca30351f7",
            "df3b0ecfb4494a7c927e38258aff4985",
            "2ac6062f6f6a41cbb3d35a689b003618",
            "44ceeadd532b465b99d2301e07f3fd1f",
            "8d1264d12f46415fb49c957f25832108",
            "b78b9ff85bcc4c33a89218a93d9ccd65",
            "763bc7d4e60d4e06b7536294f7d2d0e2",
            "0b30e5847d424da5befbb0e9f9bd27fb",
            "1ff74f8d5f554aa89b8768f34f27bb16",
            "2e5f27aa4d834727a92bf1a2861f849a",
            "97f7506cfce54affb3c0075370be02e8",
            "a700127fb7e04e0f85d38b36e5318e97",
            "5c8637ee93d64a35baaa1303ef3984bd",
            "78ff9946fab14525bc09d762bf8dbcb5",
            "f095940cee6c46ce883e21b06fab3437",
            "6002f725baed4e62a6eae50ef3719eea",
            "3077a7190663459e8939e33a01835fb7",
            "7569535a3af647f3901c49cc08e58876",
            "a522344632b84350b61c3132982d22be",
            "6fd8705d830b4dd59383031a322f959e",
            "53e6f4e9ebde44509fc10f2c8469c8a0"
          ]
        },
        "collapsed": true,
        "id": "P1XGrDDesVDg",
        "outputId": "664ef4dd-9591-47fa-c781-699bd213cd8a"
      },
      "source": [
        "# Download the training and validation data\n",
        "(train, validation), metadata = tfds.load('horses_or_humans', split=['train[:70%]', 'train[70%:]'],\n",
        "                                          with_info=True, as_supervised=True)\n",
        "\n",
        "# Number of training examples and labels\n",
        "num_train = len(list(train))\n",
        "num_validation = len(list(validation))\n",
        "num_classes = len(metadata.features['label'].names)\n",
        "num_iterations = int(num_train/batch_size)\n",
        "\n",
        "# Print important info\n",
        "print(f'Num train images: {num_train} \\\n",
        "        \\nNum validation images: {num_validation} \\\n",
        "        \\nNum classes: {num_classes} \\\n",
        "        \\nNum iterations per epoch: {num_iterations}')"
      ],
      "execution_count": null,
      "outputs": [
        {
          "output_type": "stream",
          "text": [
            "\u001b[1mDownloading and preparing dataset horses_or_humans/3.0.0 (download: 153.59 MiB, generated: Unknown size, total: 153.59 MiB) to /root/tensorflow_datasets/horses_or_humans/3.0.0...\u001b[0m\n"
          ],
          "name": "stdout"
        },
        {
          "output_type": "display_data",
          "data": {
            "application/vnd.jupyter.widget-view+json": {
              "model_id": "6f89c0cf65e54d9eb3109fff6c3566b2",
              "version_major": 2,
              "version_minor": 0
            },
            "text/plain": [
              "HBox(children=(FloatProgress(value=1.0, bar_style='info', description='Dl Completed...', max=1.0, style=Progre…"
            ]
          },
          "metadata": {
            "tags": []
          }
        },
        {
          "output_type": "display_data",
          "data": {
            "application/vnd.jupyter.widget-view+json": {
              "model_id": "0dba2f3e95194357a15b090d4720ed0b",
              "version_major": 2,
              "version_minor": 0
            },
            "text/plain": [
              "HBox(children=(FloatProgress(value=1.0, bar_style='info', description='Dl Size...', max=1.0, style=ProgressSty…"
            ]
          },
          "metadata": {
            "tags": []
          }
        },
        {
          "output_type": "stream",
          "text": [
            "\n",
            "\n",
            "\n",
            "\n"
          ],
          "name": "stdout"
        },
        {
          "output_type": "display_data",
          "data": {
            "application/vnd.jupyter.widget-view+json": {
              "model_id": "1dfe5d14a64248c4b903cb68a7042d61",
              "version_major": 2,
              "version_minor": 0
            },
            "text/plain": [
              "HBox(children=(FloatProgress(value=1.0, bar_style='info', max=1.0), HTML(value='')))"
            ]
          },
          "metadata": {
            "tags": []
          }
        },
        {
          "output_type": "stream",
          "text": [
            "\rShuffling and writing examples to /root/tensorflow_datasets/horses_or_humans/3.0.0.incompleteXOXL45/horses_or_humans-train.tfrecord\n"
          ],
          "name": "stdout"
        },
        {
          "output_type": "display_data",
          "data": {
            "application/vnd.jupyter.widget-view+json": {
              "model_id": "d5e81d7f129949e79234c44bd349fbc1",
              "version_major": 2,
              "version_minor": 0
            },
            "text/plain": [
              "HBox(children=(FloatProgress(value=0.0, max=1027.0), HTML(value='')))"
            ]
          },
          "metadata": {
            "tags": []
          }
        },
        {
          "output_type": "stream",
          "text": [
            "\r"
          ],
          "name": "stdout"
        },
        {
          "output_type": "display_data",
          "data": {
            "application/vnd.jupyter.widget-view+json": {
              "model_id": "b78b9ff85bcc4c33a89218a93d9ccd65",
              "version_major": 2,
              "version_minor": 0
            },
            "text/plain": [
              "HBox(children=(FloatProgress(value=1.0, bar_style='info', max=1.0), HTML(value='')))"
            ]
          },
          "metadata": {
            "tags": []
          }
        },
        {
          "output_type": "stream",
          "text": [
            "\rShuffling and writing examples to /root/tensorflow_datasets/horses_or_humans/3.0.0.incompleteXOXL45/horses_or_humans-test.tfrecord\n"
          ],
          "name": "stdout"
        },
        {
          "output_type": "display_data",
          "data": {
            "application/vnd.jupyter.widget-view+json": {
              "model_id": "78ff9946fab14525bc09d762bf8dbcb5",
              "version_major": 2,
              "version_minor": 0
            },
            "text/plain": [
              "HBox(children=(FloatProgress(value=0.0, max=256.0), HTML(value='')))"
            ]
          },
          "metadata": {
            "tags": []
          }
        },
        {
          "output_type": "stream",
          "text": [
            "\u001b[1mDataset horses_or_humans downloaded and prepared to /root/tensorflow_datasets/horses_or_humans/3.0.0. Subsequent calls will reuse this data.\u001b[0m\n",
            "Num train images: 719         \n",
            "Num validation images: 308         \n",
            "Num classes: 2         \n",
            "Num iterations per epoch: 22\n"
          ],
          "name": "stdout"
        }
      ]
    },
    {
      "cell_type": "markdown",
      "metadata": {
        "id": "YIifQbIOsVDh"
      },
      "source": [
        "<h3 style='color:green'>STEP-4 : Preprocessing data </h3>\n",
        "\n",
        "Preprocess the input images. Some pre-trained models require images to be of size (224,224,3) while some require (331,331,3). We use this step to prepare both sizes of images and normalize them by dividing each pixel by 255. We also one-hot encode the labels so that we can use `categorical_crossentropy` loss during training."
      ]
    },
    {
      "cell_type": "code",
      "metadata": {
        "id": "-hHgt0BEsVDh"
      },
      "source": [
        "def normalize_img(image, label, img_size):\n",
        "    # Resize image to the desired img_size and normalize it\n",
        "    # One hot encode the label\n",
        "    image = tf.image.resize(image, img_size)\n",
        "    image = tf.cast(image, tf.float32) / 255.\n",
        "    label = tf.one_hot(label, depth=num_classes)\n",
        "    return image, label\n",
        "\n",
        "def preprocess_data(train, validation, batch_size, img_size):\n",
        "    # Apply the normalize_img function on all train and validation data and create batches\n",
        "    train_processed = train.map(lambda image, label: normalize_img(image, label, img_size))\n",
        "    train_processed = train_processed.batch(batch_size).repeat()\n",
        "\n",
        "    validation_processed = validation.map(lambda image, label: normalize_img(image, label, img_size))\n",
        "    validation_processed = validation_processed.batch(batch_size)\n",
        "\n",
        "    return train_processed, validation_processed\n",
        "\n",
        "# Run preprocessing\n",
        "train_processed_224, validation_processed_224 = preprocess_data(train, validation, batch_size, img_size=[224,224])\n",
        "train_processed_331, validation_processed_331 = preprocess_data(train, validation, batch_size, img_size=[331,331])"
      ],
      "execution_count": null,
      "outputs": []
    },
    {
      "cell_type": "markdown",
      "metadata": {
        "id": "dIGKfWE0sVDj"
      },
      "source": [
        "<h3 style='color:green'>STEP-5 : Run each model </h3>\n",
        "\n",
        "Loop over each model by downloading the pre-trained model without the output layers and freeze the weights. We then construct an empty `Sequential` model and first add the pre-trained model to it. We then add a single output Dense layer with `softmax` activation and compile it with `categorical_crossentropy` loss. Finally, we train the model by calling `model.fit` for `3 epochs`. We log the number of parameters (size of the model) and each model's final accuracy into a dictionary to visualize the results. If you get the following error during the model download `AttributeError: 'str' object has no attribute 'decode'`, install a lower version of `h5py` [[source]](https://github.com/tensorflow/tensorflow/issues/44467)\n",
        "\n",
        "```\n",
        "pip uninstall h5py"
      ]
    },
    {
      "cell_type": "code",
      "metadata": {
        "colab": {
          "base_uri": "https://localhost:8080/"
        },
        "collapsed": true,
        "id": "op09iipHsVDk",
        "outputId": "5abd1952-6892-4838-a908-eac1f2349669"
      },
      "source": [
        "!pip install h5py"
      ],
      "execution_count": null,
      "outputs": [
        {
          "output_type": "stream",
          "text": [
            "Requirement already satisfied: h5py in /usr/local/lib/python3.7/dist-packages (3.1.0)\n",
            "Requirement already satisfied: numpy>=1.14.5; python_version == \"3.7\" in /usr/local/lib/python3.7/dist-packages (from h5py) (1.19.5)\n",
            "Requirement already satisfied: cached-property; python_version < \"3.8\" in /usr/local/lib/python3.7/dist-packages (from h5py) (1.5.2)\n"
          ],
          "name": "stdout"
        }
      ]
    },
    {
      "cell_type": "code",
      "metadata": {
        "colab": {
          "base_uri": "https://localhost:8080/"
        },
        "id": "r78ve2cZsVDk",
        "outputId": "e836c781-3256-4865-989d-8ea9a4b34f26"
      },
      "source": [
        "# Loop over each model available in Keras\n",
        "model_benchmarks = {'model_name': [], 'num_model_params': [], 'validation_accuracy': []}\n",
        "for model_name, model in tqdm(model_dictionary.items()):\n",
        "    # Special handling for \"NASNetLarge\" since it requires input images with size (331,331)\n",
        "    if 'NASNetLarge' in model_name:\n",
        "        input_shape=(331,331,3)\n",
        "        train_processed = train_processed_331\n",
        "        validation_processed = validation_processed_331\n",
        "    else:\n",
        "        input_shape=(224,224,3)\n",
        "        train_processed = train_processed_224\n",
        "        validation_processed = validation_processed_224\n",
        "\n",
        "    # load the pre-trained model with global average pooling as the last layer and freeze the model weights\n",
        "    pre_trained_model = model(include_top=False, pooling='avg', input_shape=input_shape)\n",
        "    pre_trained_model.trainable = False\n",
        "\n",
        "    # custom modifications on top of pre-trained model\n",
        "    clf_model = tf.keras.models.Sequential()\n",
        "    clf_model.add(pre_trained_model)\n",
        "    clf_model.add(tf.keras.layers.Dense(num_classes, activation='softmax'))\n",
        "    clf_model.compile(loss='categorical_crossentropy', metrics=['accuracy'])\n",
        "    history = clf_model.fit(train_processed, epochs=3, validation_data=validation_processed,\n",
        "                            steps_per_epoch=num_iterations)\n",
        "\n",
        "    # Calculate all relevant metrics\n",
        "    model_benchmarks['model_name'].append(model_name)\n",
        "    model_benchmarks['num_model_params'].append(pre_trained_model.count_params())\n",
        "    model_benchmarks['validation_accuracy'].append(history.history['val_accuracy'][-1])"
      ],
      "execution_count": null,
      "outputs": [
        {
          "output_type": "stream",
          "text": [
            "\r  0%|          | 0/28 [00:00<?, ?it/s]"
          ],
          "name": "stderr"
        },
        {
          "output_type": "stream",
          "text": [
            "Epoch 1/3\n",
            "22/22 [==============================] - 107s 5s/step - loss: 0.3198 - accuracy: 0.8622 - val_loss: 0.1030 - val_accuracy: 0.9935\n",
            "Epoch 2/3\n",
            "22/22 [==============================] - 99s 5s/step - loss: 0.0562 - accuracy: 0.9985 - val_loss: 0.0381 - val_accuracy: 0.9935\n",
            "Epoch 3/3\n",
            "22/22 [==============================] - 99s 5s/step - loss: 0.0229 - accuracy: 0.9985 - val_loss: 0.0160 - val_accuracy: 1.0000\n"
          ],
          "name": "stdout"
        },
        {
          "output_type": "stream",
          "text": [
            "\r  4%|▎         | 1/28 [05:30<2:28:37, 330.28s/it]"
          ],
          "name": "stderr"
        },
        {
          "output_type": "stream",
          "text": [
            "Downloading data from https://storage.googleapis.com/tensorflow/keras-applications/densenet/densenet169_weights_tf_dim_ordering_tf_kernels_notop.h5\n",
            "51879936/51877672 [==============================] - 1s 0us/step\n",
            "Epoch 1/3\n",
            "22/22 [==============================] - 129s 6s/step - loss: 0.2263 - accuracy: 0.9261 - val_loss: 0.0652 - val_accuracy: 0.9968\n",
            "Epoch 2/3\n",
            "22/22 [==============================] - 118s 6s/step - loss: 0.0357 - accuracy: 0.9971 - val_loss: 0.0237 - val_accuracy: 0.9968\n",
            "Epoch 3/3\n",
            "22/22 [==============================] - 117s 5s/step - loss: 0.0127 - accuracy: 0.9985 - val_loss: 0.0109 - val_accuracy: 0.9968\n"
          ],
          "name": "stdout"
        },
        {
          "output_type": "stream",
          "text": [
            "\r  7%|▋         | 2/28 [12:05<2:31:32, 349.71s/it]"
          ],
          "name": "stderr"
        },
        {
          "output_type": "stream",
          "text": [
            "Downloading data from https://storage.googleapis.com/tensorflow/keras-applications/densenet/densenet201_weights_tf_dim_ordering_tf_kernels_notop.h5\n",
            "74842112/74836368 [==============================] - 1s 0us/step\n",
            "Epoch 1/3\n",
            "22/22 [==============================] - 164s 7s/step - loss: 0.1256 - accuracy: 0.9787 - val_loss: 0.0358 - val_accuracy: 1.0000\n",
            "Epoch 2/3\n",
            "22/22 [==============================] - 151s 7s/step - loss: 0.0192 - accuracy: 0.9985 - val_loss: 0.0122 - val_accuracy: 1.0000\n",
            "Epoch 3/3\n",
            "22/22 [==============================] - 151s 7s/step - loss: 0.0073 - accuracy: 1.0000 - val_loss: 0.0052 - val_accuracy: 1.0000\n"
          ],
          "name": "stdout"
        },
        {
          "output_type": "stream",
          "text": [
            "\r 11%|█         | 3/28 [20:42<2:46:39, 399.99s/it]"
          ],
          "name": "stderr"
        },
        {
          "output_type": "stream",
          "text": [
            "Downloading data from https://storage.googleapis.com/keras-applications/efficientnetb0_notop.h5\n",
            "16711680/16705208 [==============================] - 0s 0us/step\n",
            "Epoch 1/3\n",
            "22/22 [==============================] - 39s 2s/step - loss: 0.6995 - accuracy: 0.5028 - val_loss: 0.6926 - val_accuracy: 0.5162\n",
            "Epoch 2/3\n",
            "22/22 [==============================] - 32s 2s/step - loss: 0.6959 - accuracy: 0.5211 - val_loss: 0.6956 - val_accuracy: 0.4838\n",
            "Epoch 3/3\n",
            "22/22 [==============================] - 32s 1s/step - loss: 0.6966 - accuracy: 0.5095 - val_loss: 0.6934 - val_accuracy: 0.4838\n"
          ],
          "name": "stdout"
        },
        {
          "output_type": "stream",
          "text": [
            "\r 14%|█▍        | 4/28 [23:11<2:09:52, 324.71s/it]"
          ],
          "name": "stderr"
        },
        {
          "output_type": "stream",
          "text": [
            "Downloading data from https://storage.googleapis.com/keras-applications/efficientnetb1_notop.h5\n",
            "27025408/27018416 [==============================] - 1s 0us/step\n",
            "Epoch 1/3\n",
            "22/22 [==============================] - 54s 2s/step - loss: 0.7047 - accuracy: 0.4972 - val_loss: 0.6943 - val_accuracy: 0.4838\n",
            "Epoch 2/3\n",
            "22/22 [==============================] - 45s 2s/step - loss: 0.6983 - accuracy: 0.4920 - val_loss: 0.6986 - val_accuracy: 0.4838\n",
            "Epoch 3/3\n",
            "22/22 [==============================] - 45s 2s/step - loss: 0.7004 - accuracy: 0.4993 - val_loss: 0.6931 - val_accuracy: 0.5162\n"
          ],
          "name": "stdout"
        },
        {
          "output_type": "stream",
          "text": [
            "\r 18%|█▊        | 5/28 [25:38<1:44:04, 271.49s/it]"
          ],
          "name": "stderr"
        },
        {
          "output_type": "stream",
          "text": [
            "Downloading data from https://storage.googleapis.com/keras-applications/efficientnetb2_notop.h5\n",
            "31793152/31790344 [==============================] - 0s 0us/step\n",
            "Epoch 1/3\n",
            "22/22 [==============================] - 57s 2s/step - loss: 0.7033 - accuracy: 0.5071 - val_loss: 0.6926 - val_accuracy: 0.5162\n",
            "Epoch 2/3\n",
            "22/22 [==============================] - 48s 2s/step - loss: 0.7011 - accuracy: 0.4993 - val_loss: 0.6992 - val_accuracy: 0.4838\n",
            "Epoch 3/3\n",
            "22/22 [==============================] - 48s 2s/step - loss: 0.6956 - accuracy: 0.5269 - val_loss: 0.6958 - val_accuracy: 0.5162\n"
          ],
          "name": "stdout"
        },
        {
          "output_type": "stream",
          "text": [
            "\r 21%|██▏       | 6/28 [29:11<1:33:05, 253.86s/it]"
          ],
          "name": "stderr"
        },
        {
          "output_type": "stream",
          "text": [
            "Downloading data from https://storage.googleapis.com/keras-applications/efficientnetb3_notop.h5\n",
            "43941888/43941136 [==============================] - 1s 0us/step\n",
            "Epoch 1/3\n",
            "22/22 [==============================] - 78s 3s/step - loss: 0.7092 - accuracy: 0.5241 - val_loss: 0.6939 - val_accuracy: 0.5162\n",
            "Epoch 2/3\n",
            "22/22 [==============================] - 67s 3s/step - loss: 0.7026 - accuracy: 0.5095 - val_loss: 0.7121 - val_accuracy: 0.4838\n",
            "Epoch 3/3\n",
            "22/22 [==============================] - 66s 3s/step - loss: 0.7042 - accuracy: 0.5240 - val_loss: 0.6983 - val_accuracy: 0.5162\n"
          ],
          "name": "stdout"
        },
        {
          "output_type": "stream",
          "text": [
            "\r 25%|██▌       | 7/28 [33:46<1:31:03, 260.18s/it]"
          ],
          "name": "stderr"
        },
        {
          "output_type": "stream",
          "text": [
            "Downloading data from https://storage.googleapis.com/keras-applications/efficientnetb4_notop.h5\n",
            "71688192/71686520 [==============================] - 1s 0us/step\n",
            "Epoch 1/3\n",
            "22/22 [==============================] - 108s 4s/step - loss: 0.7116 - accuracy: 0.5227 - val_loss: 0.6938 - val_accuracy: 0.5162\n",
            "Epoch 2/3\n",
            "22/22 [==============================] - 94s 4s/step - loss: 0.7012 - accuracy: 0.5226 - val_loss: 0.7158 - val_accuracy: 0.4838\n",
            "Epoch 3/3\n",
            "22/22 [==============================] - 93s 4s/step - loss: 0.7024 - accuracy: 0.5226 - val_loss: 0.6975 - val_accuracy: 0.5162\n"
          ],
          "name": "stdout"
        },
        {
          "output_type": "stream",
          "text": [
            "\r 29%|██▊       | 8/28 [38:47<1:30:47, 272.36s/it]"
          ],
          "name": "stderr"
        },
        {
          "output_type": "stream",
          "text": [
            "Downloading data from https://storage.googleapis.com/keras-applications/efficientnetb5_notop.h5\n",
            "115269632/115263384 [==============================] - 3s 0us/step\n",
            "Epoch 1/3\n",
            "22/22 [==============================] - 152s 6s/step - loss: 0.7236 - accuracy: 0.4943 - val_loss: 0.6949 - val_accuracy: 0.5162\n",
            "Epoch 2/3\n",
            "22/22 [==============================] - 133s 6s/step - loss: 0.7066 - accuracy: 0.5284 - val_loss: 0.7061 - val_accuracy: 0.4838\n",
            "Epoch 3/3\n",
            "22/22 [==============================] - 136s 6s/step - loss: 0.7081 - accuracy: 0.5095 - val_loss: 0.7042 - val_accuracy: 0.5162\n"
          ],
          "name": "stdout"
        },
        {
          "output_type": "stream",
          "text": [
            "\r 32%|███▏      | 9/28 [46:31<1:44:29, 329.98s/it]"
          ],
          "name": "stderr"
        },
        {
          "output_type": "stream",
          "text": [
            "Downloading data from https://storage.googleapis.com/keras-applications/efficientnetb6_notop.h5\n",
            "165240832/165234480 [==============================] - 3s 0us/step\n",
            "Epoch 1/3\n",
            "22/22 [==============================] - 201s 9s/step - loss: 0.7283 - accuracy: 0.5256 - val_loss: 0.6971 - val_accuracy: 0.5162\n",
            "Epoch 2/3\n",
            "22/22 [==============================] - 180s 8s/step - loss: 0.7142 - accuracy: 0.5211 - val_loss: 0.7580 - val_accuracy: 0.4838\n",
            "Epoch 3/3\n",
            "22/22 [==============================] - 180s 8s/step - loss: 0.7138 - accuracy: 0.5109 - val_loss: 0.6933 - val_accuracy: 0.5162\n"
          ],
          "name": "stdout"
        },
        {
          "output_type": "stream",
          "text": [
            "\r 36%|███▌      | 10/28 [56:18<2:02:06, 407.05s/it]"
          ],
          "name": "stderr"
        },
        {
          "output_type": "stream",
          "text": [
            "Downloading data from https://storage.googleapis.com/keras-applications/efficientnetb7_notop.h5\n",
            "258080768/258076736 [==============================] - 6s 0us/step\n",
            "Epoch 1/3\n",
            "22/22 [==============================] - 300s 13s/step - loss: 0.7357 - accuracy: 0.5284 - val_loss: 0.6996 - val_accuracy: 0.5162\n",
            "Epoch 2/3\n",
            "22/22 [==============================] - 272s 13s/step - loss: 0.7120 - accuracy: 0.5124 - val_loss: 0.7260 - val_accuracy: 0.4838\n",
            "Epoch 3/3\n",
            "22/22 [==============================] - 273s 13s/step - loss: 0.7166 - accuracy: 0.5255 - val_loss: 0.6926 - val_accuracy: 0.5162\n"
          ],
          "name": "stdout"
        },
        {
          "output_type": "stream",
          "text": [
            "\r 39%|███▉      | 11/28 [1:11:16<2:37:00, 554.14s/it]"
          ],
          "name": "stderr"
        },
        {
          "output_type": "stream",
          "text": [
            "Downloading data from https://storage.googleapis.com/tensorflow/keras-applications/inception_resnet_v2/inception_resnet_v2_weights_tf_dim_ordering_tf_kernels_notop.h5\n",
            "219062272/219055592 [==============================] - 3s 0us/step\n",
            "Epoch 1/3\n",
            "22/22 [==============================] - 189s 8s/step - loss: 0.2050 - accuracy: 0.9261 - val_loss: 0.0399 - val_accuracy: 1.0000\n",
            "Epoch 2/3\n",
            "22/22 [==============================] - 172s 8s/step - loss: 0.0214 - accuracy: 0.9985 - val_loss: 0.0125 - val_accuracy: 1.0000\n",
            "Epoch 3/3\n",
            "22/22 [==============================] - 172s 8s/step - loss: 0.0086 - accuracy: 0.9985 - val_loss: 0.0044 - val_accuracy: 1.0000\n"
          ],
          "name": "stdout"
        },
        {
          "output_type": "stream",
          "text": [
            "\r 43%|████▎     | 12/28 [1:20:58<2:30:01, 562.62s/it]"
          ],
          "name": "stderr"
        },
        {
          "output_type": "stream",
          "text": [
            "Downloading data from https://storage.googleapis.com/tensorflow/keras-applications/inception_v3/inception_v3_weights_tf_dim_ordering_tf_kernels_notop.h5\n",
            "87916544/87910968 [==============================] - 2s 0us/step\n",
            "Epoch 1/3\n",
            "22/22 [==============================] - 83s 4s/step - loss: 0.3393 - accuracy: 0.9020 - val_loss: 0.0561 - val_accuracy: 0.9968\n",
            "Epoch 2/3\n",
            "22/22 [==============================] - 77s 4s/step - loss: 0.0365 - accuracy: 0.9942 - val_loss: 0.0164 - val_accuracy: 0.9968\n",
            "Epoch 3/3\n",
            "22/22 [==============================] - 77s 4s/step - loss: 0.0176 - accuracy: 0.9985 - val_loss: 0.0061 - val_accuracy: 1.0000\n"
          ],
          "name": "stdout"
        },
        {
          "output_type": "stream",
          "text": [
            "\r 46%|████▋     | 13/28 [1:24:59<1:56:32, 466.17s/it]"
          ],
          "name": "stderr"
        },
        {
          "output_type": "stream",
          "text": [
            "Downloading data from https://storage.googleapis.com/tensorflow/keras-applications/mobilenet/mobilenet_1_0_224_tf_no_top.h5\n",
            "17227776/17225924 [==============================] - 1s 0us/step\n",
            "Epoch 1/3\n",
            "22/22 [==============================] - 28s 1s/step - loss: 0.2243 - accuracy: 0.9119 - val_loss: 0.0710 - val_accuracy: 0.9903\n",
            "Epoch 2/3\n",
            "22/22 [==============================] - 26s 1s/step - loss: 0.0335 - accuracy: 0.9971 - val_loss: 0.0321 - val_accuracy: 0.9935\n",
            "Epoch 3/3\n",
            "22/22 [==============================] - 26s 1s/step - loss: 0.0119 - accuracy: 0.9985 - val_loss: 0.0152 - val_accuracy: 0.9935\n"
          ],
          "name": "stdout"
        },
        {
          "output_type": "stream",
          "text": [
            "\r 50%|█████     | 14/28 [1:26:25<1:22:07, 351.98s/it]"
          ],
          "name": "stderr"
        },
        {
          "output_type": "stream",
          "text": [
            "Downloading data from https://storage.googleapis.com/tensorflow/keras-applications/mobilenet_v2/mobilenet_v2_weights_tf_dim_ordering_tf_kernels_1.0_224_no_top.h5\n",
            "9412608/9406464 [==============================] - 0s 0us/step\n",
            "Epoch 1/3\n",
            "22/22 [==============================] - 25s 1s/step - loss: 0.1613 - accuracy: 0.9460 - val_loss: 0.0349 - val_accuracy: 1.0000\n",
            "Epoch 2/3\n",
            "22/22 [==============================] - 22s 1s/step - loss: 0.0262 - accuracy: 0.9971 - val_loss: 0.0125 - val_accuracy: 1.0000\n",
            "Epoch 3/3\n",
            "22/22 [==============================] - 22s 995ms/step - loss: 0.0130 - accuracy: 0.9985 - val_loss: 0.0059 - val_accuracy: 1.0000\n"
          ],
          "name": "stdout"
        },
        {
          "output_type": "stream",
          "text": [
            "\r 54%|█████▎    | 15/28 [1:27:50<58:57, 272.08s/it]  "
          ],
          "name": "stderr"
        },
        {
          "output_type": "stream",
          "text": [
            "Downloading data from https://storage.googleapis.com/tensorflow/keras-applications/mobilenet_v3/weights_mobilenet_v3_large_224_1.0_float_no_top.h5\n",
            "17612800/17605208 [==============================] - 0s 0us/step\n",
            "Epoch 1/3\n",
            "22/22 [==============================] - 30s 1s/step - loss: 0.7227 - accuracy: 0.5057 - val_loss: 0.6894 - val_accuracy: 0.5162\n",
            "Epoch 2/3\n",
            "22/22 [==============================] - 22s 1s/step - loss: 0.6915 - accuracy: 0.5400 - val_loss: 0.7016 - val_accuracy: 0.4838\n",
            "Epoch 3/3\n",
            "22/22 [==============================] - 22s 1s/step - loss: 0.6790 - accuracy: 0.5575 - val_loss: 0.6604 - val_accuracy: 0.5455\n"
          ],
          "name": "stdout"
        },
        {
          "output_type": "stream",
          "text": [
            "\r 57%|█████▋    | 16/28 [1:29:20<43:30, 217.52s/it]"
          ],
          "name": "stderr"
        },
        {
          "output_type": "stream",
          "text": [
            "Downloading data from https://storage.googleapis.com/tensorflow/keras-applications/mobilenet_v3/weights_mobilenet_v3_small_224_1.0_float_no_top.h5\n",
            "6701056/6698480 [==============================] - 0s 0us/step\n",
            "Epoch 1/3\n",
            "22/22 [==============================] - 14s 515ms/step - loss: 0.7108 - accuracy: 0.5142 - val_loss: 0.6907 - val_accuracy: 0.5162\n",
            "Epoch 2/3\n",
            "22/22 [==============================] - 10s 478ms/step - loss: 0.6957 - accuracy: 0.5298 - val_loss: 0.7005 - val_accuracy: 0.4838\n",
            "Epoch 3/3\n",
            "22/22 [==============================] - 10s 470ms/step - loss: 0.6903 - accuracy: 0.5400 - val_loss: 0.6845 - val_accuracy: 0.5195\n"
          ],
          "name": "stdout"
        },
        {
          "output_type": "stream",
          "text": [
            "\r 61%|██████    | 17/28 [1:30:06<30:25, 165.95s/it]"
          ],
          "name": "stderr"
        },
        {
          "output_type": "stream",
          "text": [
            "Downloading data from https://storage.googleapis.com/tensorflow/keras-applications/nasnet/NASNet-large-no-top.h5\n",
            "343613440/343610240 [==============================] - 5s 0us/step\n",
            "Epoch 1/3\n",
            "22/22 [==============================] - 799s 36s/step - loss: 0.0839 - accuracy: 0.9787 - val_loss: 0.0175 - val_accuracy: 1.0000\n",
            "Epoch 2/3\n",
            "22/22 [==============================] - 760s 36s/step - loss: 0.0085 - accuracy: 1.0000 - val_loss: 0.0056 - val_accuracy: 1.0000\n",
            "Epoch 3/3\n",
            "22/22 [==============================] - 767s 35s/step - loss: 0.0027 - accuracy: 1.0000 - val_loss: 0.0022 - val_accuracy: 1.0000\n"
          ],
          "name": "stdout"
        },
        {
          "output_type": "stream",
          "text": [
            "\r 64%|██████▍   | 18/28 [2:10:03<2:19:13, 835.37s/it]"
          ],
          "name": "stderr"
        },
        {
          "output_type": "stream",
          "text": [
            "Downloading data from https://storage.googleapis.com/tensorflow/keras-applications/nasnet/NASNet-mobile-no-top.h5\n",
            "19996672/19993432 [==============================] - 1s 0us/step\n",
            "Epoch 1/3\n",
            "22/22 [==============================] - 69s 3s/step - loss: 0.2342 - accuracy: 0.9361 - val_loss: 0.0741 - val_accuracy: 0.9968\n",
            "Epoch 2/3\n",
            "22/22 [==============================] - 52s 2s/step - loss: 0.0401 - accuracy: 0.9971 - val_loss: 0.0308 - val_accuracy: 0.9968\n",
            "Epoch 3/3\n",
            "22/22 [==============================] - 53s 2s/step - loss: 0.0180 - accuracy: 0.9985 - val_loss: 0.0158 - val_accuracy: 0.9968\n"
          ],
          "name": "stdout"
        },
        {
          "output_type": "stream",
          "text": [
            "\r 68%|██████▊   | 19/28 [2:13:06<1:35:55, 639.50s/it]"
          ],
          "name": "stderr"
        },
        {
          "output_type": "stream",
          "text": [
            "Downloading data from https://storage.googleapis.com/tensorflow/keras-applications/resnet/resnet101_weights_tf_dim_ordering_tf_kernels_notop.h5\n",
            "171450368/171446536 [==============================] - 3s 0us/step\n",
            "Epoch 1/3\n",
            "22/22 [==============================] - 232s 10s/step - loss: 0.6905 - accuracy: 0.5412 - val_loss: 0.6624 - val_accuracy: 0.5779\n",
            "Epoch 2/3\n",
            "22/22 [==============================] - 215s 10s/step - loss: 0.6610 - accuracy: 0.6317 - val_loss: 0.6457 - val_accuracy: 0.6104\n",
            "Epoch 3/3\n",
            "22/22 [==============================] - 216s 10s/step - loss: 0.6388 - accuracy: 0.6681 - val_loss: 0.6182 - val_accuracy: 0.6364\n"
          ],
          "name": "stdout"
        },
        {
          "output_type": "stream",
          "text": [
            "\r 71%|███████▏  | 20/28 [2:24:43<1:27:33, 656.70s/it]"
          ],
          "name": "stderr"
        },
        {
          "output_type": "stream",
          "text": [
            "Downloading data from https://storage.googleapis.com/tensorflow/keras-applications/resnet/resnet101v2_weights_tf_dim_ordering_tf_kernels_notop.h5\n",
            "171319296/171317808 [==============================] - 3s 0us/step\n",
            "Epoch 1/3\n",
            "22/22 [==============================] - 204s 9s/step - loss: 0.1226 - accuracy: 0.9588 - val_loss: 0.0131 - val_accuracy: 1.0000\n",
            "Epoch 2/3\n",
            "22/22 [==============================] - 194s 9s/step - loss: 0.0072 - accuracy: 1.0000 - val_loss: 0.0038 - val_accuracy: 1.0000\n",
            "Epoch 3/3\n",
            "22/22 [==============================] - 194s 9s/step - loss: 0.0025 - accuracy: 1.0000 - val_loss: 0.0013 - val_accuracy: 1.0000\n"
          ],
          "name": "stdout"
        },
        {
          "output_type": "stream",
          "text": [
            "\r 75%|███████▌  | 21/28 [2:35:18<1:15:52, 650.38s/it]"
          ],
          "name": "stderr"
        },
        {
          "output_type": "stream",
          "text": [
            "Downloading data from https://storage.googleapis.com/tensorflow/keras-applications/resnet/resnet152_weights_tf_dim_ordering_tf_kernels_notop.h5\n",
            "234700800/234698864 [==============================] - 5s 0us/step\n",
            "Epoch 1/3\n",
            "22/22 [==============================] - 326s 15s/step - loss: 0.7107 - accuracy: 0.4844 - val_loss: 0.6823 - val_accuracy: 0.5584\n",
            "Epoch 2/3\n",
            "22/22 [==============================] - 308s 14s/step - loss: 0.6866 - accuracy: 0.5502 - val_loss: 0.6757 - val_accuracy: 0.5260\n",
            "Epoch 3/3\n",
            "22/22 [==============================] - 309s 14s/step - loss: 0.6682 - accuracy: 0.5953 - val_loss: 0.6568 - val_accuracy: 0.5649\n"
          ],
          "name": "stdout"
        },
        {
          "output_type": "stream",
          "text": [
            "\r 79%|███████▊  | 22/28 [2:52:02<1:15:38, 756.35s/it]"
          ],
          "name": "stderr"
        },
        {
          "output_type": "stream",
          "text": [
            "Downloading data from https://storage.googleapis.com/tensorflow/keras-applications/resnet/resnet152v2_weights_tf_dim_ordering_tf_kernels_notop.h5\n",
            "234553344/234545216 [==============================] - 6s 0us/step\n",
            "Epoch 1/3\n",
            "22/22 [==============================] - 333s 15s/step - loss: 0.1081 - accuracy: 0.9574 - val_loss: 0.0167 - val_accuracy: 1.0000\n",
            "Epoch 2/3\n",
            "22/22 [==============================] - 311s 15s/step - loss: 0.0080 - accuracy: 1.0000 - val_loss: 0.0044 - val_accuracy: 1.0000\n",
            "Epoch 3/3\n",
            "22/22 [==============================] - 317s 15s/step - loss: 0.0026 - accuracy: 1.0000 - val_loss: 0.0016 - val_accuracy: 1.0000\n"
          ],
          "name": "stdout"
        },
        {
          "output_type": "stream",
          "text": [
            "\r 82%|████████▏ | 23/28 [3:08:44<1:09:10, 830.08s/it]"
          ],
          "name": "stderr"
        },
        {
          "output_type": "stream",
          "text": [
            "Downloading data from https://storage.googleapis.com/tensorflow/keras-applications/resnet/resnet50_weights_tf_dim_ordering_tf_kernels_notop.h5\n",
            "94773248/94765736 [==============================] - 3s 0us/step\n",
            "Epoch 1/3\n",
            "22/22 [==============================] - 122s 5s/step - loss: 0.7045 - accuracy: 0.5298 - val_loss: 0.6679 - val_accuracy: 0.5584\n",
            "Epoch 2/3\n",
            "22/22 [==============================] - 115s 5s/step - loss: 0.6644 - accuracy: 0.6114 - val_loss: 0.6516 - val_accuracy: 0.5227\n",
            "Epoch 3/3\n",
            "22/22 [==============================] - 117s 5s/step - loss: 0.6396 - accuracy: 0.6405 - val_loss: 0.6172 - val_accuracy: 0.6299\n"
          ],
          "name": "stdout"
        },
        {
          "output_type": "stream",
          "text": [
            "\r 86%|████████▌ | 24/28 [3:15:15<46:32, 698.21s/it]  "
          ],
          "name": "stderr"
        },
        {
          "output_type": "stream",
          "text": [
            "Downloading data from https://storage.googleapis.com/tensorflow/keras-applications/resnet/resnet50v2_weights_tf_dim_ordering_tf_kernels_notop.h5\n",
            "94674944/94668760 [==============================] - 2s 0us/step\n",
            "Epoch 1/3\n",
            "22/22 [==============================] - 109s 5s/step - loss: 0.0604 - accuracy: 0.9830 - val_loss: 0.0088 - val_accuracy: 1.0000\n",
            "Epoch 2/3\n",
            "22/22 [==============================] - 104s 5s/step - loss: 0.0078 - accuracy: 0.9985 - val_loss: 0.0033 - val_accuracy: 1.0000\n",
            "Epoch 3/3\n",
            "22/22 [==============================] - 104s 5s/step - loss: 0.0030 - accuracy: 0.9985 - val_loss: 0.0015 - val_accuracy: 1.0000\n"
          ],
          "name": "stdout"
        },
        {
          "output_type": "stream",
          "text": [
            "\r 89%|████████▉ | 25/28 [3:20:43<29:22, 587.36s/it]"
          ],
          "name": "stderr"
        },
        {
          "output_type": "stream",
          "text": [
            "Downloading data from https://storage.googleapis.com/tensorflow/keras-applications/vgg16/vgg16_weights_tf_dim_ordering_tf_kernels_notop.h5\n",
            "58892288/58889256 [==============================] - 1s 0us/step\n",
            "Epoch 1/3\n",
            "22/22 [==============================] - 380s 17s/step - loss: 0.6347 - accuracy: 0.7358 - val_loss: 0.5627 - val_accuracy: 0.9026\n",
            "Epoch 2/3\n",
            "22/22 [==============================] - 374s 18s/step - loss: 0.5330 - accuracy: 0.8952 - val_loss: 0.4828 - val_accuracy: 0.9351\n",
            "Epoch 3/3\n",
            "22/22 [==============================] - 373s 17s/step - loss: 0.4609 - accuracy: 0.9185 - val_loss: 0.4129 - val_accuracy: 0.9253\n"
          ],
          "name": "stdout"
        },
        {
          "output_type": "stream",
          "text": [
            "\r 93%|█████████▎| 26/28 [3:40:07<25:20, 760.32s/it]"
          ],
          "name": "stderr"
        },
        {
          "output_type": "stream",
          "text": [
            "Downloading data from https://storage.googleapis.com/tensorflow/keras-applications/vgg19/vgg19_weights_tf_dim_ordering_tf_kernels_notop.h5\n",
            "80142336/80134624 [==============================] - 2s 0us/step\n",
            "Epoch 1/3\n",
            "22/22 [==============================] - 483s 22s/step - loss: 0.6230 - accuracy: 0.7074 - val_loss: 0.5477 - val_accuracy: 0.8506\n",
            "Epoch 2/3\n",
            "22/22 [==============================] - 470s 22s/step - loss: 0.5391 - accuracy: 0.8282 - val_loss: 0.4820 - val_accuracy: 0.8961\n",
            "Epoch 3/3\n",
            "22/22 [==============================] - 471s 22s/step - loss: 0.4753 - accuracy: 0.8792 - val_loss: 0.4212 - val_accuracy: 0.8961\n"
          ],
          "name": "stdout"
        },
        {
          "output_type": "stream",
          "text": [
            "\r 96%|█████████▋| 27/28 [4:04:32<16:11, 971.72s/it]"
          ],
          "name": "stderr"
        },
        {
          "output_type": "stream",
          "text": [
            "Downloading data from https://storage.googleapis.com/tensorflow/keras-applications/xception/xception_weights_tf_dim_ordering_tf_kernels_notop.h5\n",
            "83689472/83683744 [==============================] - 2s 0us/step\n",
            "Epoch 1/3\n",
            "22/22 [==============================] - 135s 6s/step - loss: 0.1090 - accuracy: 0.9759 - val_loss: 0.0271 - val_accuracy: 1.0000\n",
            "Epoch 2/3\n",
            "22/22 [==============================] - 129s 6s/step - loss: 0.0186 - accuracy: 0.9985 - val_loss: 0.0098 - val_accuracy: 1.0000\n",
            "Epoch 3/3\n",
            "22/22 [==============================] - 128s 6s/step - loss: 0.0093 - accuracy: 0.9985 - val_loss: 0.0046 - val_accuracy: 1.0000\n"
          ],
          "name": "stdout"
        },
        {
          "output_type": "stream",
          "text": [
            "100%|██████████| 28/28 [4:12:02<00:00, 540.08s/it]\n"
          ],
          "name": "stderr"
        }
      ]
    },
    {
      "cell_type": "markdown",
      "metadata": {
        "id": "Z_1--7UgsVDl"
      },
      "source": [
        "<h3 style= 'color: green'>Visualize the results</h3>\n",
        "\n",
        "Validation result with tensorflow pretrained model name"
      ]
    },
    {
      "cell_type": "code",
      "metadata": {
        "colab": {
          "base_uri": "https://localhost:8080/",
          "height": 911
        },
        "id": "lYiyKbOvsVDm",
        "outputId": "1170285c-8bf8-48c6-8571-cc53e64e2ccc"
      },
      "source": [
        "# Convert Results to DataFrame for easy viewing\n",
        "benchmark_df = pd.DataFrame(model_benchmarks)\n",
        "benchmark_df.sort_values('num_model_params', inplace=True) # sort in ascending order of num_model_params column\n",
        "benchmark_df.to_csv('benchmark_df.csv', index=False) # write results to csv file\n",
        "benchmark_df"
      ],
      "execution_count": null,
      "outputs": [
        {
          "output_type": "execute_result",
          "data": {
            "text/html": [
              "<div>\n",
              "<style scoped>\n",
              "    .dataframe tbody tr th:only-of-type {\n",
              "        vertical-align: middle;\n",
              "    }\n",
              "\n",
              "    .dataframe tbody tr th {\n",
              "        vertical-align: top;\n",
              "    }\n",
              "\n",
              "    .dataframe thead th {\n",
              "        text-align: right;\n",
              "    }\n",
              "</style>\n",
              "<table border=\"1\" class=\"dataframe\">\n",
              "  <thead>\n",
              "    <tr style=\"text-align: right;\">\n",
              "      <th></th>\n",
              "      <th>model_name</th>\n",
              "      <th>num_model_params</th>\n",
              "      <th>validation_accuracy</th>\n",
              "    </tr>\n",
              "  </thead>\n",
              "  <tbody>\n",
              "    <tr>\n",
              "      <th>16</th>\n",
              "      <td>MobileNetV3Small</td>\n",
              "      <td>1529968</td>\n",
              "      <td>0.519481</td>\n",
              "    </tr>\n",
              "    <tr>\n",
              "      <th>14</th>\n",
              "      <td>MobileNetV2</td>\n",
              "      <td>2257984</td>\n",
              "      <td>1.000000</td>\n",
              "    </tr>\n",
              "    <tr>\n",
              "      <th>13</th>\n",
              "      <td>MobileNet</td>\n",
              "      <td>3228864</td>\n",
              "      <td>0.993506</td>\n",
              "    </tr>\n",
              "    <tr>\n",
              "      <th>3</th>\n",
              "      <td>EfficientNetB0</td>\n",
              "      <td>4049571</td>\n",
              "      <td>0.483766</td>\n",
              "    </tr>\n",
              "    <tr>\n",
              "      <th>15</th>\n",
              "      <td>MobileNetV3Large</td>\n",
              "      <td>4226432</td>\n",
              "      <td>0.545455</td>\n",
              "    </tr>\n",
              "    <tr>\n",
              "      <th>18</th>\n",
              "      <td>NASNetMobile</td>\n",
              "      <td>4269716</td>\n",
              "      <td>0.996753</td>\n",
              "    </tr>\n",
              "    <tr>\n",
              "      <th>4</th>\n",
              "      <td>EfficientNetB1</td>\n",
              "      <td>6575239</td>\n",
              "      <td>0.516234</td>\n",
              "    </tr>\n",
              "    <tr>\n",
              "      <th>0</th>\n",
              "      <td>DenseNet121</td>\n",
              "      <td>7037504</td>\n",
              "      <td>1.000000</td>\n",
              "    </tr>\n",
              "    <tr>\n",
              "      <th>5</th>\n",
              "      <td>EfficientNetB2</td>\n",
              "      <td>7768569</td>\n",
              "      <td>0.516234</td>\n",
              "    </tr>\n",
              "    <tr>\n",
              "      <th>6</th>\n",
              "      <td>EfficientNetB3</td>\n",
              "      <td>10783535</td>\n",
              "      <td>0.516234</td>\n",
              "    </tr>\n",
              "    <tr>\n",
              "      <th>1</th>\n",
              "      <td>DenseNet169</td>\n",
              "      <td>12642880</td>\n",
              "      <td>0.996753</td>\n",
              "    </tr>\n",
              "    <tr>\n",
              "      <th>25</th>\n",
              "      <td>VGG16</td>\n",
              "      <td>14714688</td>\n",
              "      <td>0.925325</td>\n",
              "    </tr>\n",
              "    <tr>\n",
              "      <th>7</th>\n",
              "      <td>EfficientNetB4</td>\n",
              "      <td>17673823</td>\n",
              "      <td>0.516234</td>\n",
              "    </tr>\n",
              "    <tr>\n",
              "      <th>2</th>\n",
              "      <td>DenseNet201</td>\n",
              "      <td>18321984</td>\n",
              "      <td>1.000000</td>\n",
              "    </tr>\n",
              "    <tr>\n",
              "      <th>26</th>\n",
              "      <td>VGG19</td>\n",
              "      <td>20024384</td>\n",
              "      <td>0.896104</td>\n",
              "    </tr>\n",
              "    <tr>\n",
              "      <th>27</th>\n",
              "      <td>Xception</td>\n",
              "      <td>20861480</td>\n",
              "      <td>1.000000</td>\n",
              "    </tr>\n",
              "    <tr>\n",
              "      <th>12</th>\n",
              "      <td>InceptionV3</td>\n",
              "      <td>21802784</td>\n",
              "      <td>1.000000</td>\n",
              "    </tr>\n",
              "    <tr>\n",
              "      <th>24</th>\n",
              "      <td>ResNet50V2</td>\n",
              "      <td>23564800</td>\n",
              "      <td>1.000000</td>\n",
              "    </tr>\n",
              "    <tr>\n",
              "      <th>23</th>\n",
              "      <td>ResNet50</td>\n",
              "      <td>23587712</td>\n",
              "      <td>0.629870</td>\n",
              "    </tr>\n",
              "    <tr>\n",
              "      <th>8</th>\n",
              "      <td>EfficientNetB5</td>\n",
              "      <td>28513527</td>\n",
              "      <td>0.516234</td>\n",
              "    </tr>\n",
              "    <tr>\n",
              "      <th>9</th>\n",
              "      <td>EfficientNetB6</td>\n",
              "      <td>40960143</td>\n",
              "      <td>0.516234</td>\n",
              "    </tr>\n",
              "    <tr>\n",
              "      <th>20</th>\n",
              "      <td>ResNet101V2</td>\n",
              "      <td>42626560</td>\n",
              "      <td>1.000000</td>\n",
              "    </tr>\n",
              "    <tr>\n",
              "      <th>19</th>\n",
              "      <td>ResNet101</td>\n",
              "      <td>42658176</td>\n",
              "      <td>0.636364</td>\n",
              "    </tr>\n",
              "    <tr>\n",
              "      <th>11</th>\n",
              "      <td>InceptionResNetV2</td>\n",
              "      <td>54336736</td>\n",
              "      <td>1.000000</td>\n",
              "    </tr>\n",
              "    <tr>\n",
              "      <th>22</th>\n",
              "      <td>ResNet152V2</td>\n",
              "      <td>58331648</td>\n",
              "      <td>1.000000</td>\n",
              "    </tr>\n",
              "    <tr>\n",
              "      <th>21</th>\n",
              "      <td>ResNet152</td>\n",
              "      <td>58370944</td>\n",
              "      <td>0.564935</td>\n",
              "    </tr>\n",
              "    <tr>\n",
              "      <th>10</th>\n",
              "      <td>EfficientNetB7</td>\n",
              "      <td>64097687</td>\n",
              "      <td>0.516234</td>\n",
              "    </tr>\n",
              "    <tr>\n",
              "      <th>17</th>\n",
              "      <td>NASNetLarge</td>\n",
              "      <td>84916818</td>\n",
              "      <td>1.000000</td>\n",
              "    </tr>\n",
              "  </tbody>\n",
              "</table>\n",
              "</div>"
            ],
            "text/plain": [
              "           model_name  num_model_params  validation_accuracy\n",
              "16   MobileNetV3Small           1529968             0.519481\n",
              "14        MobileNetV2           2257984             1.000000\n",
              "13          MobileNet           3228864             0.993506\n",
              "3      EfficientNetB0           4049571             0.483766\n",
              "15   MobileNetV3Large           4226432             0.545455\n",
              "18       NASNetMobile           4269716             0.996753\n",
              "4      EfficientNetB1           6575239             0.516234\n",
              "0         DenseNet121           7037504             1.000000\n",
              "5      EfficientNetB2           7768569             0.516234\n",
              "6      EfficientNetB3          10783535             0.516234\n",
              "1         DenseNet169          12642880             0.996753\n",
              "25              VGG16          14714688             0.925325\n",
              "7      EfficientNetB4          17673823             0.516234\n",
              "2         DenseNet201          18321984             1.000000\n",
              "26              VGG19          20024384             0.896104\n",
              "27           Xception          20861480             1.000000\n",
              "12        InceptionV3          21802784             1.000000\n",
              "24         ResNet50V2          23564800             1.000000\n",
              "23           ResNet50          23587712             0.629870\n",
              "8      EfficientNetB5          28513527             0.516234\n",
              "9      EfficientNetB6          40960143             0.516234\n",
              "20        ResNet101V2          42626560             1.000000\n",
              "19          ResNet101          42658176             0.636364\n",
              "11  InceptionResNetV2          54336736             1.000000\n",
              "22        ResNet152V2          58331648             1.000000\n",
              "21          ResNet152          58370944             0.564935\n",
              "10     EfficientNetB7          64097687             0.516234\n",
              "17        NASNetLarge          84916818             1.000000"
            ]
          },
          "metadata": {
            "tags": []
          },
          "execution_count": 23
        }
      ]
    },
    {
      "cell_type": "markdown",
      "metadata": {
        "id": "UEXttEPMsVDm"
      },
      "source": [
        "<h3 style= 'color: green'>Graphical Visualization</h3>"
      ]
    },
    {
      "cell_type": "code",
      "metadata": {
        "colab": {
          "base_uri": "https://localhost:8080/",
          "height": 475
        },
        "id": "ll_7r1USsVDm",
        "outputId": "d21cf434-e0ca-4126-bf34-84a500835066"
      },
      "source": [
        "# Loop over each row and plot the num_model_params vs validation_accuracy\n",
        "markers=[\".\",\",\",\"o\",\"v\",\"^\",\"<\",\">\",\"1\",\"2\",\"3\",\"4\",\"8\",\"s\",\"p\",\"P\",\"*\",\"h\",\"H\",\"+\",\"x\",\"X\",\"D\",\"d\",\"|\",\"_\",4,5,6,7,8,9,10,11]\n",
        "plt.figure(figsize=(7,5))\n",
        "for row in benchmark_df.itertuples():\n",
        "    plt.scatter(row.num_model_params, row.validation_accuracy, label=row.model_name, marker=markers[row.Index], s=150, linewidths=2)\n",
        "plt.xscale('log')\n",
        "plt.xlabel('Number of Parameters in Model')\n",
        "plt.ylabel('Validation Accuracy after 3 Epochs')\n",
        "plt.title('Accuracy vs Model Size')\n",
        "plt.legend(bbox_to_anchor=(1, 1), loc='upper left'); # Move legend out of the plot"
      ],
      "execution_count": null,
      "outputs": [
        {
          "output_type": "display_data",
          "data": {
            "image/png": "[encoded data removed]",
            "text/plain": [
              "<Figure size 504x360 with 1 Axes>"
            ]
          },
          "metadata": {
            "tags": [],
            "needs_background": "light"
          }
        }
      ]
    },
    {
      "cell_type": "code",
      "metadata": {
        "id": "Nasyu2GpDPH7"
      },
      "source": [],
      "execution_count": null,
      "outputs": []
    }
  ]
}